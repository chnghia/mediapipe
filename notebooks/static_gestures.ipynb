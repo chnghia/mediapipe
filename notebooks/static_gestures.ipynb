{
 "cells": [
  {
   "cell_type": "code",
   "execution_count": 1,
   "metadata": {},
   "outputs": [],
   "source": [
    "import os\n",
    "import pandas as pd\n",
    "import numpy as np"
   ]
  },
  {
   "cell_type": "code",
   "execution_count": 2,
   "metadata": {},
   "outputs": [],
   "source": [
    "dataPath = '../myMediapipe/trainingData/staticGestures/210317_0940'"
   ]
  },
  {
   "cell_type": "code",
   "execution_count": 4,
   "metadata": {},
   "outputs": [
    {
     "name": "stdout",
     "output_type": "stream",
     "text": [
      "labels.csv  paper.csv  rock.csv  scissor.csv  static_gestures_labels.txt\n"
     ]
    }
   ],
   "source": [
    "!ls $dataPath"
   ]
  },
  {
   "cell_type": "code",
   "execution_count": 5,
   "metadata": {},
   "outputs": [
    {
     "name": "stdout",
     "output_type": "stream",
     "text": [
      "         0        1  2\n",
      "0    Paper    paper  0\n",
      "1     Rock     rock  1\n",
      "2  Scissor  scissor  2\n"
     ]
    }
   ],
   "source": [
    "labelsFile = os.path.join(dataPath, \"labels.csv\")\n",
    "labels = pd.read_csv(labelsFile,header=None)\n",
    "print(labels)"
   ]
  },
  {
   "cell_type": "code",
   "execution_count": 6,
   "metadata": {},
   "outputs": [
    {
     "name": "stdout",
     "output_type": "stream",
     "text": [
      "Loading file: ../myMediapipe/trainingData/staticGestures/210317_0940/paper.csv \tNumber of Rows: 63650\n",
      "0\n",
      "Loading file: ../myMediapipe/trainingData/staticGestures/210317_0940/rock.csv \tNumber of Rows: 24773\n",
      "1\n",
      "Loading file: ../myMediapipe/trainingData/staticGestures/210317_0940/scissor.csv \tNumber of Rows: 63816\n",
      "2\n"
     ]
    }
   ],
   "source": [
    "preData  = {}\n",
    "for label in labels.itertuples():\n",
    "    trainingFile = os.path.join(dataPath,label[2] + \".csv\")\n",
    "    preData[label.Index] = pd.read_csv(trainingFile,header=None)\n",
    "    print(\"Loading file:\", trainingFile, \"\\tNumber of Rows:\" , len(preData[label.Index].index))\n",
    "    print(label.Index)"
   ]
  },
  {
   "cell_type": "code",
   "execution_count": 7,
   "metadata": {},
   "outputs": [
    {
     "name": "stdout",
     "output_type": "stream",
     "text": [
      "Record #: 0 \thas: 20 incomplete captures\n",
      "Record #: 1 \thas: 14 incomplete captures\n",
      "Record #: 2 \thas: 18 incomplete captures\n"
     ]
    }
   ],
   "source": [
    "# cleaning\n",
    "for key in preData.keys():\n",
    "    print(\"Record #:\", key, \"\\thas:\",len(preData[key].index) % 21, \"incomplete captures\")\n",
    "    preData[key].drop(preData[key].tail(len(preData[key].index) % 21).index,inplace=True)"
   ]
  },
  {
   "cell_type": "code",
   "execution_count": 8,
   "metadata": {},
   "outputs": [
    {
     "name": "stdout",
     "output_type": "stream",
     "text": [
      "24759\n",
      "24759\n",
      "24759\n"
     ]
    }
   ],
   "source": [
    "# balance data\n",
    "recordsPerClass = len(preData[0].index) #initial value\n",
    "#Calculate smallest class\n",
    "for key in preData.keys():\n",
    "    if recordsPerClass > len(preData[key].index): \n",
    "        recordsPerClass=len(preData[key].index)\n",
    "    #print(recordsPerClass)\n",
    "\n",
    "#Trimming\n",
    "for key in preData.keys():\n",
    "    preData[key] = preData[key].head(recordsPerClass)\n",
    "    print(len(preData[key].index))"
   ]
  },
  {
   "cell_type": "code",
   "execution_count": 8,
   "metadata": {},
   "outputs": [],
   "source": [
    "# Builds training and label array"
   ]
  },
  {
   "cell_type": "code",
   "execution_count": 9,
   "metadata": {},
   "outputs": [
    {
     "name": "stdout",
     "output_type": "stream",
     "text": [
      "Number of Rows in total: 3537\n",
      "(3537, 42) float64\n",
      "(3537,) int16\n"
     ]
    }
   ],
   "source": [
    "numTrainRows, numTestRows = 0,0\n",
    "numLandmaks = 21\n",
    "numCols = numLandmaks*2\n",
    "\n",
    "def countRows(dataDict):\n",
    "    rowsCount=0\n",
    "    for key in dataDict.keys():\n",
    "        rowsCount += len(dataDict[key].index)\n",
    "    return rowsCount\n",
    "\n",
    "numRows = countRows(preData)\n",
    "#numTestRows = countRows(testData)\n",
    "\n",
    "numTransRows = int(numRows / numLandmaks)\n",
    "transData = np.zeros((numTransRows,numCols),preData[1][4].dtypes)\n",
    "transLabels = np.zeros((numTransRows),np.int16)\n",
    "\n",
    "#numTestRows = int(numTestRows / numLandmaks)\n",
    "#testingData = np.zeros((numTestRows,numCols),preData[1][4].dtypes)\n",
    "#testingLabels = np.zeros((numTestRows),np.int16)\n",
    "\n",
    "print(\"Number of Rows in total:\", numTransRows)  \n",
    "print(transData.shape, transData.dtype)\n",
    "print(transLabels.shape, transLabels.dtype)\n",
    "\n",
    "#print(testingData.shape, testingData.dtype)\n",
    "#print(testingLabels.shape, testingLabels.dtype)\n"
   ]
  },
  {
   "cell_type": "code",
   "execution_count": 10,
   "metadata": {},
   "outputs": [
    {
     "name": "stdout",
     "output_type": "stream",
     "text": [
      "[-0.249378  0.        0.       -0.917108 -3.027194  0.       -2.892972\n",
      "  0.        0.        0.        0.        0.9748   -0.871614  0.\n",
      " -3.135525  0.        0.        0.        0.        0.486408 -1.192675\n",
      "  0.       -2.944513  0.        0.        0.        0.        0.242445\n",
      " -1.405436  0.       -2.993963  0.        0.        0.        0.\n",
      "  0.       -1.854409  0.       -2.832604  0.        0.        0.      ]\n",
      "2\n"
     ]
    }
   ],
   "source": [
    "def transposeInterleave(a, b):\n",
    "    c = np.empty((a.size + b.size,), dtype=a.dtype)\n",
    "    c[0::2] = a\n",
    "    c[1::2] = b\n",
    "    return c\n",
    "\n",
    "def dataTransp(dataDict,processedData,processedLabels):\n",
    "    j = 0\n",
    "    for key in dataDict.keys():\n",
    "        for i in range(0, len(dataDict[key].index), numLandmaks):  \n",
    "            #print(dataDict[1].iloc[i : i + numLandmaks,3:5])\n",
    "            a= np.ravel(np.asarray(dataDict[key].iloc[i : i + numLandmaks,3:4]))\n",
    "            b= np.ravel(np.asarray(dataDict[key].iloc[i : i + numLandmaks,4:5]))\n",
    "            #print(\"j:\",j)\n",
    "            processedData[j] = transposeInterleave(a,b)\n",
    "            processedLabels[j] =labels.iloc[key,2]\n",
    "            j+=1\n",
    "     # retun True\n",
    "\n",
    "dataTransp(preData,transData,transLabels) \n",
    "\n",
    "print(transData[-1])\n",
    "print(transLabels[-1])"
   ]
  },
  {
   "cell_type": "code",
   "execution_count": 11,
   "metadata": {},
   "outputs": [],
   "source": [
    "# Labels to one hot"
   ]
  },
  {
   "cell_type": "code",
   "execution_count": 11,
   "metadata": {},
   "outputs": [
    {
     "name": "stdout",
     "output_type": "stream",
     "text": [
      "(3537,)\n",
      "(3537, 3)\n",
      "[0. 0. 1.]\n"
     ]
    }
   ],
   "source": [
    "from keras.utils import to_categorical\n",
    "print(transLabels.shape)\n",
    "transLabels = to_categorical(transLabels)\n",
    "print(transLabels.shape)\n",
    "print(transLabels[-1])"
   ]
  },
  {
   "cell_type": "code",
   "execution_count": 13,
   "metadata": {},
   "outputs": [],
   "source": [
    "# Set apart Test Data"
   ]
  },
  {
   "cell_type": "code",
   "execution_count": 12,
   "metadata": {},
   "outputs": [
    {
     "name": "stdout",
     "output_type": "stream",
     "text": [
      "\tTraining records: 2829 \tTest records: 708\n"
     ]
    }
   ],
   "source": [
    "from sklearn.model_selection import train_test_split\n",
    "testDataRatio = 0.2\n",
    "\n",
    "X_train, X_test, y_train, y_test = train_test_split(transData,transLabels, test_size=testDataRatio)\n",
    "print( \"\\tTraining records:\", np.shape(X_train)[0], \"\\tTest records:\", np.shape(X_test)[0])"
   ]
  },
  {
   "cell_type": "code",
   "execution_count": 15,
   "metadata": {},
   "outputs": [],
   "source": [
    "# model definition"
   ]
  },
  {
   "cell_type": "code",
   "execution_count": 13,
   "metadata": {},
   "outputs": [],
   "source": [
    "from keras import models\n",
    "from keras import layers\n",
    "from keras import backend as K\n",
    "K.clear_session()\n",
    "\n",
    "model = models.Sequential()\n",
    "model.add(layers.Dense(64, activation='relu', input_shape=(numCols,)))\n",
    "model.add(layers.Dense(42, activation='relu'))\n",
    "model.add(layers.Dense(len(labels.index), activation='softmax'))"
   ]
  },
  {
   "cell_type": "code",
   "execution_count": 17,
   "metadata": {},
   "outputs": [],
   "source": [
    "# model compile"
   ]
  },
  {
   "cell_type": "code",
   "execution_count": 14,
   "metadata": {},
   "outputs": [],
   "source": [
    "model.compile(optimizer='rmsprop',\n",
    "              loss='categorical_crossentropy',\n",
    "              metrics=['accuracy'])"
   ]
  },
  {
   "cell_type": "code",
   "execution_count": 19,
   "metadata": {},
   "outputs": [],
   "source": [
    "# training"
   ]
  },
  {
   "cell_type": "code",
   "execution_count": 15,
   "metadata": {},
   "outputs": [
    {
     "name": "stdout",
     "output_type": "stream",
     "text": [
      "Epoch 1/40\n",
      "71/71 [==============================] - 0s 3ms/step - loss: 0.5258 - accuracy: 0.8029 - val_loss: 0.3410 - val_accuracy: 0.8746\n",
      "Epoch 2/40\n",
      "71/71 [==============================] - 0s 2ms/step - loss: 0.2983 - accuracy: 0.9037 - val_loss: 0.2382 - val_accuracy: 0.9187\n",
      "Epoch 3/40\n",
      "71/71 [==============================] - 0s 2ms/step - loss: 0.2309 - accuracy: 0.9280 - val_loss: 0.1991 - val_accuracy: 0.9240\n",
      "Epoch 4/40\n",
      "71/71 [==============================] - 0s 2ms/step - loss: 0.1898 - accuracy: 0.9408 - val_loss: 0.1651 - val_accuracy: 0.9417\n",
      "Epoch 5/40\n",
      "71/71 [==============================] - 0s 2ms/step - loss: 0.1601 - accuracy: 0.9465 - val_loss: 0.1383 - val_accuracy: 0.9594\n",
      "Epoch 6/40\n",
      "71/71 [==============================] - 0s 2ms/step - loss: 0.1392 - accuracy: 0.9549 - val_loss: 0.1256 - val_accuracy: 0.9594\n",
      "Epoch 7/40\n",
      "71/71 [==============================] - 0s 2ms/step - loss: 0.1203 - accuracy: 0.9616 - val_loss: 0.1130 - val_accuracy: 0.9647\n",
      "Epoch 8/40\n",
      "71/71 [==============================] - 0s 2ms/step - loss: 0.1057 - accuracy: 0.9691 - val_loss: 0.1072 - val_accuracy: 0.9647\n",
      "Epoch 9/40\n",
      "71/71 [==============================] - 0s 2ms/step - loss: 0.0944 - accuracy: 0.9677 - val_loss: 0.0974 - val_accuracy: 0.9682\n",
      "Epoch 10/40\n",
      "71/71 [==============================] - 0s 2ms/step - loss: 0.0849 - accuracy: 0.9713 - val_loss: 0.0977 - val_accuracy: 0.9664\n",
      "Epoch 11/40\n",
      "71/71 [==============================] - 0s 2ms/step - loss: 0.0778 - accuracy: 0.9761 - val_loss: 0.0947 - val_accuracy: 0.9735\n",
      "Epoch 12/40\n",
      "71/71 [==============================] - 0s 2ms/step - loss: 0.0684 - accuracy: 0.9797 - val_loss: 0.0856 - val_accuracy: 0.9717\n",
      "Epoch 13/40\n",
      "71/71 [==============================] - 0s 2ms/step - loss: 0.0656 - accuracy: 0.9792 - val_loss: 0.0832 - val_accuracy: 0.9753\n",
      "Epoch 14/40\n",
      "71/71 [==============================] - 0s 2ms/step - loss: 0.0560 - accuracy: 0.9837 - val_loss: 0.0807 - val_accuracy: 0.9753\n",
      "Epoch 15/40\n",
      "71/71 [==============================] - 0s 2ms/step - loss: 0.0518 - accuracy: 0.9859 - val_loss: 0.0776 - val_accuracy: 0.9753\n",
      "Epoch 16/40\n",
      "71/71 [==============================] - 0s 2ms/step - loss: 0.0481 - accuracy: 0.9867 - val_loss: 0.0860 - val_accuracy: 0.9700\n",
      "Epoch 17/40\n",
      "71/71 [==============================] - 0s 2ms/step - loss: 0.0441 - accuracy: 0.9885 - val_loss: 0.0823 - val_accuracy: 0.9717\n",
      "Epoch 18/40\n",
      "71/71 [==============================] - 0s 2ms/step - loss: 0.0399 - accuracy: 0.9881 - val_loss: 0.0796 - val_accuracy: 0.9770\n",
      "Epoch 19/40\n",
      "71/71 [==============================] - 0s 2ms/step - loss: 0.0366 - accuracy: 0.9916 - val_loss: 0.0806 - val_accuracy: 0.9735\n",
      "Epoch 20/40\n",
      "71/71 [==============================] - 0s 2ms/step - loss: 0.0352 - accuracy: 0.9898 - val_loss: 0.0823 - val_accuracy: 0.9753\n",
      "Epoch 21/40\n",
      "71/71 [==============================] - 0s 2ms/step - loss: 0.0319 - accuracy: 0.9903 - val_loss: 0.0853 - val_accuracy: 0.9770\n",
      "Epoch 22/40\n",
      "71/71 [==============================] - 0s 2ms/step - loss: 0.0290 - accuracy: 0.9925 - val_loss: 0.0889 - val_accuracy: 0.9700\n",
      "Epoch 23/40\n",
      "71/71 [==============================] - 0s 2ms/step - loss: 0.0267 - accuracy: 0.9925 - val_loss: 0.0842 - val_accuracy: 0.9700\n",
      "Epoch 24/40\n",
      "71/71 [==============================] - 0s 2ms/step - loss: 0.0241 - accuracy: 0.9938 - val_loss: 0.0894 - val_accuracy: 0.9682\n",
      "Epoch 25/40\n",
      "71/71 [==============================] - 0s 2ms/step - loss: 0.0228 - accuracy: 0.9938 - val_loss: 0.0912 - val_accuracy: 0.9717\n",
      "Epoch 26/40\n",
      "71/71 [==============================] - 0s 2ms/step - loss: 0.0200 - accuracy: 0.9947 - val_loss: 0.0982 - val_accuracy: 0.9700\n",
      "Epoch 27/40\n",
      "71/71 [==============================] - 0s 2ms/step - loss: 0.0198 - accuracy: 0.9943 - val_loss: 0.0990 - val_accuracy: 0.9664\n",
      "Epoch 28/40\n",
      "71/71 [==============================] - 0s 2ms/step - loss: 0.0181 - accuracy: 0.9947 - val_loss: 0.0938 - val_accuracy: 0.9664\n",
      "Epoch 29/40\n",
      "71/71 [==============================] - 0s 2ms/step - loss: 0.0158 - accuracy: 0.9956 - val_loss: 0.0958 - val_accuracy: 0.9700\n",
      "Epoch 30/40\n",
      "71/71 [==============================] - 0s 2ms/step - loss: 0.0152 - accuracy: 0.9951 - val_loss: 0.0926 - val_accuracy: 0.9700\n",
      "Epoch 31/40\n",
      "71/71 [==============================] - 0s 2ms/step - loss: 0.0139 - accuracy: 0.9956 - val_loss: 0.0967 - val_accuracy: 0.9682\n",
      "Epoch 32/40\n",
      "71/71 [==============================] - 0s 2ms/step - loss: 0.0123 - accuracy: 0.9965 - val_loss: 0.0975 - val_accuracy: 0.9700\n",
      "Epoch 33/40\n",
      "71/71 [==============================] - 0s 2ms/step - loss: 0.0104 - accuracy: 0.9982 - val_loss: 0.0943 - val_accuracy: 0.9735\n",
      "Epoch 34/40\n",
      "71/71 [==============================] - 0s 2ms/step - loss: 0.0109 - accuracy: 0.9960 - val_loss: 0.0964 - val_accuracy: 0.9682\n",
      "Epoch 35/40\n",
      "71/71 [==============================] - 0s 2ms/step - loss: 0.0098 - accuracy: 0.9987 - val_loss: 0.1028 - val_accuracy: 0.9717\n",
      "Epoch 36/40\n",
      "71/71 [==============================] - 0s 2ms/step - loss: 0.0095 - accuracy: 0.9960 - val_loss: 0.0993 - val_accuracy: 0.9682\n",
      "Epoch 37/40\n",
      "71/71 [==============================] - 0s 2ms/step - loss: 0.0078 - accuracy: 0.9982 - val_loss: 0.0990 - val_accuracy: 0.9700\n",
      "Epoch 38/40\n",
      "71/71 [==============================] - 0s 2ms/step - loss: 0.0080 - accuracy: 0.9982 - val_loss: 0.0946 - val_accuracy: 0.9735\n",
      "Epoch 39/40\n",
      "71/71 [==============================] - 0s 2ms/step - loss: 0.0072 - accuracy: 0.9982 - val_loss: 0.1125 - val_accuracy: 0.9647\n",
      "Epoch 40/40\n",
      "71/71 [==============================] - 0s 2ms/step - loss: 0.0067 - accuracy: 0.9982 - val_loss: 0.1063 - val_accuracy: 0.9717\n"
     ]
    }
   ],
   "source": [
    "history = model.fit(X_train,\n",
    "                    y_train,\n",
    "                    epochs=40,\n",
    "                    #batch_size=512,\n",
    "                    validation_split=0.2)"
   ]
  },
  {
   "cell_type": "code",
   "execution_count": 21,
   "metadata": {},
   "outputs": [],
   "source": [
    "# Plotting the training and validation loss"
   ]
  },
  {
   "cell_type": "code",
   "execution_count": 16,
   "metadata": {},
   "outputs": [
    {
     "data": {
      "image/png": "[encoded data removed]",
      "text/plain": [
       "<Figure size 432x288 with 1 Axes>"
      ]
     },
     "metadata": {
      "needs_background": "light"
     },
     "output_type": "display_data"
    }
   ],
   "source": [
    "import matplotlib.pyplot as plt\n",
    "loss = history.history['loss']\n",
    "val_loss = history.history['val_loss']\n",
    "epochs = range(1, len(loss) + 1)\n",
    "plt.plot(epochs, loss, 'bo', label='Training loss')\n",
    "plt.plot(epochs, val_loss, 'b', label='Validation loss')\n",
    "plt.title('Training and validation loss')\n",
    "plt.xlabel('Epochs')\n",
    "plt.ylabel('Loss')\n",
    "plt.legend()\n",
    "plt.show()"
   ]
  },
  {
   "cell_type": "code",
   "execution_count": 23,
   "metadata": {},
   "outputs": [],
   "source": [
    "# Plotting the training and validation accuracy"
   ]
  },
  {
   "cell_type": "code",
   "execution_count": null,
   "metadata": {},
   "outputs": [],
   "source": []
  },
  {
   "cell_type": "code",
   "execution_count": 17,
   "metadata": {},
   "outputs": [
    {
     "data": {
      "image/png": "[encoded data removed]",
      "text/plain": [
       "<Figure size 432x288 with 1 Axes>"
      ]
     },
     "metadata": {
      "needs_background": "light"
     },
     "output_type": "display_data"
    }
   ],
   "source": [
    "plt.clf()\n",
    "acc = history.history['accuracy']\n",
    "val_acc = history.history['val_accuracy']\n",
    "plt.plot(epochs, acc, 'go', label='Training acc')\n",
    "plt.plot(epochs, val_acc, 'g', label='Validation acc')\n",
    "plt.title('Training and validation accuracy')\n",
    "plt.xlabel('Epochs')\n",
    "plt.ylabel('Loss')\n",
    "plt.legend()\n",
    "plt.show()"
   ]
  },
  {
   "cell_type": "code",
   "execution_count": 25,
   "metadata": {},
   "outputs": [],
   "source": [
    "# Evaluate the model"
   ]
  },
  {
   "cell_type": "code",
   "execution_count": 18,
   "metadata": {},
   "outputs": [
    {
     "name": "stdout",
     "output_type": "stream",
     "text": [
      "\n",
      "Testing loss: 14.69%, acc: 97.6%\n",
      "\n"
     ]
    }
   ],
   "source": [
    "loss, acc = model.evaluate(X_test, y_test, verbose=0)\n",
    "print('\\nTesting loss: {}%, acc: {}%\\n'.format(round(loss*100,2),round(acc*100,2)))"
   ]
  },
  {
   "cell_type": "code",
   "execution_count": 27,
   "metadata": {},
   "outputs": [],
   "source": [
    "# TODO: Model optimization"
   ]
  },
  {
   "cell_type": "code",
   "execution_count": 19,
   "metadata": {},
   "outputs": [],
   "source": [
    "# saving\n",
    "model.save('gestures003.h5')"
   ]
  },
  {
   "cell_type": "code",
   "execution_count": 29,
   "metadata": {},
   "outputs": [],
   "source": [
    "# To tflite"
   ]
  },
  {
   "cell_type": "code",
   "execution_count": 20,
   "metadata": {},
   "outputs": [
    {
     "name": "stdout",
     "output_type": "stream",
     "text": [
      "<module 'tensorflow._api.v2.version' from '/home/nghia/venv/lib/python3.6/site-packages/tensorflow/_api/v2/version/__init__.py'>\n",
      "WARNING:tensorflow:From /home/nghia/venv/lib/python3.6/site-packages/tensorflow/python/training/tracking/tracking.py:111: Model.state_updates (from tensorflow.python.keras.engine.training) is deprecated and will be removed in a future version.\n",
      "Instructions for updating:\n",
      "This property should not be used in TensorFlow 2.0, as updates are applied automatically.\n",
      "WARNING:tensorflow:From /home/nghia/venv/lib/python3.6/site-packages/tensorflow/python/training/tracking/tracking.py:111: Layer.updates (from tensorflow.python.keras.engine.base_layer) is deprecated and will be removed in a future version.\n",
      "Instructions for updating:\n",
      "This property should not be used in TensorFlow 2.0, as updates are applied automatically.\n",
      "INFO:tensorflow:Assets written to: /tmp/tmpxxq3mnb2/assets\n"
     ]
    },
    {
     "data": {
      "text/plain": [
       "24124"
      ]
     },
     "execution_count": 20,
     "metadata": {},
     "output_type": "execute_result"
    }
   ],
   "source": [
    "import tensorflow as tf\n",
    "print(tf.version)\n",
    "\n",
    "converter = tf.lite.TFLiteConverter.from_keras_model(model) \n",
    "liteModel = converter.convert()\n",
    "\n",
    "open(\"gestures003.tflite\", \"wb\").write(liteModel)\n",
    "\n",
    "#file = open( 'gestures001.tflite' , 'wb' ) \n",
    "#file.write( liteModel )"
   ]
  },
  {
   "cell_type": "code",
   "execution_count": null,
   "metadata": {},
   "outputs": [],
   "source": []
  },
  {
   "cell_type": "code",
   "execution_count": null,
   "metadata": {},
   "outputs": [],
   "source": []
  }
 ],
 "metadata": {
  "kernelspec": {
   "display_name": "Python 3",
   "language": "python",
   "name": "python3"
  },
  "language_info": {
   "codemirror_mode": {
    "name": "ipython",
    "version": 3
   },
   "file_extension": ".py",
   "mimetype": "text/x-python",
   "name": "python",
   "nbconvert_exporter": "python",
   "pygments_lexer": "ipython3",
   "version": "3.6.9"
  }
 },
 "nbformat": 4,
 "nbformat_minor": 5
}
