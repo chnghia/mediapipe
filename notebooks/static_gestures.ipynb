{
 "cells": [
  {
   "cell_type": "code",
   "execution_count": 1,
   "metadata": {},
   "outputs": [],
   "source": [
    "import os\n",
    "import pandas as pd\n",
    "import numpy as np\n",
    "import os\n",
    "os.environ[\"CUDA_VISIBLE_DEVICES\"] = \"-1\""
   ]
  },
  {
   "cell_type": "code",
   "execution_count": 2,
   "metadata": {},
   "outputs": [],
   "source": [
    "dataPath = '../myMediapipe/trainingData/staticGestures/210318_0950'"
   ]
  },
  {
   "cell_type": "code",
   "execution_count": 3,
   "metadata": {},
   "outputs": [
    {
     "name": "stdout",
     "output_type": "stream",
     "text": [
      "labels.csv  paper2.csv\trock.csv   scissor.csv\t static_gestures_labels.txt\n",
      "paper.csv   paper3.csv\trock1.csv  scissor1.csv\n",
      "paper1.csv  paper4.csv\trock2.csv  scissor2.csv\n"
     ]
    }
   ],
   "source": [
    "!ls $dataPath"
   ]
  },
  {
   "cell_type": "code",
   "execution_count": 4,
   "metadata": {},
   "outputs": [
    {
     "name": "stdout",
     "output_type": "stream",
     "text": [
      "         0        1  2\n",
      "0    Paper   paper1  0\n",
      "1     Rock     rock  1\n",
      "2  Scissor  scissor  2\n"
     ]
    }
   ],
   "source": [
    "labelsFile = os.path.join(dataPath, \"labels.csv\")\n",
    "labels = pd.read_csv(labelsFile,header=None)\n",
    "print(labels)"
   ]
  },
  {
   "cell_type": "code",
   "execution_count": 5,
   "metadata": {},
   "outputs": [
    {
     "name": "stdout",
     "output_type": "stream",
     "text": [
      "Loading file: ../myMediapipe/trainingData/staticGestures/210318_0950/paper1.csv \tNumber of Rows: 13930\n",
      "0\n",
      "Loading file: ../myMediapipe/trainingData/staticGestures/210318_0950/rock.csv \tNumber of Rows: 86157\n",
      "1\n",
      "Loading file: ../myMediapipe/trainingData/staticGestures/210318_0950/scissor.csv \tNumber of Rows: 49411\n",
      "2\n"
     ]
    }
   ],
   "source": [
    "preData  = {}\n",
    "for label in labels.itertuples():\n",
    "    trainingFile = os.path.join(dataPath,label[2] + \".csv\")\n",
    "    preData[label.Index] = pd.read_csv(trainingFile,header=None)\n",
    "    print(\"Loading file:\", trainingFile, \"\\tNumber of Rows:\" , len(preData[label.Index].index))\n",
    "    print(label.Index)"
   ]
  },
  {
   "cell_type": "code",
   "execution_count": 6,
   "metadata": {},
   "outputs": [
    {
     "name": "stdout",
     "output_type": "stream",
     "text": [
      "Record #: 0 \thas: 7 incomplete captures\n",
      "Record #: 1 \thas: 15 incomplete captures\n",
      "Record #: 2 \thas: 19 incomplete captures\n"
     ]
    }
   ],
   "source": [
    "# cleaning\n",
    "for key in preData.keys():\n",
    "    print(\"Record #:\", key, \"\\thas:\",len(preData[key].index) % 21, \"incomplete captures\")\n",
    "    preData[key].drop(preData[key].tail(len(preData[key].index) % 21).index,inplace=True)"
   ]
  },
  {
   "cell_type": "code",
   "execution_count": 7,
   "metadata": {},
   "outputs": [
    {
     "name": "stdout",
     "output_type": "stream",
     "text": [
      "13923\n",
      "13923\n",
      "13923\n"
     ]
    }
   ],
   "source": [
    "# balance data\n",
    "recordsPerClass = len(preData[0].index) #initial value\n",
    "#Calculate smallest class\n",
    "for key in preData.keys():\n",
    "    if recordsPerClass > len(preData[key].index): \n",
    "        recordsPerClass=len(preData[key].index)\n",
    "    #print(recordsPerClass)\n",
    "\n",
    "#Trimming\n",
    "for key in preData.keys():\n",
    "    preData[key] = preData[key].head(recordsPerClass)\n",
    "    print(len(preData[key].index))"
   ]
  },
  {
   "cell_type": "code",
   "execution_count": 8,
   "metadata": {},
   "outputs": [],
   "source": [
    "# Builds training and label array"
   ]
  },
  {
   "cell_type": "code",
   "execution_count": 9,
   "metadata": {},
   "outputs": [
    {
     "name": "stdout",
     "output_type": "stream",
     "text": [
      "Number of Rows in total: 1989\n",
      "(1989, 42) float64\n",
      "(1989,) int16\n"
     ]
    }
   ],
   "source": [
    "numTrainRows, numTestRows = 0,0\n",
    "numLandmaks = 21\n",
    "numCols = numLandmaks*2\n",
    "\n",
    "def countRows(dataDict):\n",
    "    rowsCount=0\n",
    "    for key in dataDict.keys():\n",
    "        rowsCount += len(dataDict[key].index)\n",
    "    return rowsCount\n",
    "\n",
    "numRows = countRows(preData)\n",
    "#numTestRows = countRows(testData)\n",
    "\n",
    "numTransRows = int(numRows / numLandmaks)\n",
    "transData = np.zeros((numTransRows,numCols),preData[1][4].dtypes)\n",
    "transLabels = np.zeros((numTransRows),np.int16)\n",
    "\n",
    "#numTestRows = int(numTestRows / numLandmaks)\n",
    "#testingData = np.zeros((numTestRows,numCols),preData[1][4].dtypes)\n",
    "#testingLabels = np.zeros((numTestRows),np.int16)\n",
    "\n",
    "print(\"Number of Rows in total:\", numTransRows)  \n",
    "print(transData.shape, transData.dtype)\n",
    "print(transLabels.shape, transLabels.dtype)\n",
    "\n",
    "#print(testingData.shape, testingData.dtype)\n",
    "#print(testingLabels.shape, testingLabels.dtype)\n"
   ]
  },
  {
   "cell_type": "code",
   "execution_count": 10,
   "metadata": {},
   "outputs": [
    {
     "name": "stdout",
     "output_type": "stream",
     "text": [
      "[ 2.015168  0.        0.       -0.281733 -2.566233  0.       -2.516072\n",
      "  0.        0.        0.        0.        0.55923   3.105184  0.\n",
      "  3.118885  0.        0.        0.        0.       -2.958238  3.135149\n",
      "  0.       -2.987015  0.        0.        0.        0.       -0.130063\n",
      "  0.991339  0.        2.811815  0.        0.        0.        0.\n",
      "  0.        1.83637   0.        2.854078  0.        0.        0.      ]\n",
      "2\n"
     ]
    }
   ],
   "source": [
    "def transposeInterleave(a, b):\n",
    "    c = np.empty((a.size + b.size,), dtype=a.dtype)\n",
    "    c[0::2] = a\n",
    "    c[1::2] = b\n",
    "    return c\n",
    "\n",
    "def dataTransp(dataDict,processedData,processedLabels):\n",
    "    j = 0\n",
    "    for key in dataDict.keys():\n",
    "        for i in range(0, len(dataDict[key].index), numLandmaks):  \n",
    "            #print(dataDict[1].iloc[i : i + numLandmaks,3:5])\n",
    "            a= np.ravel(np.asarray(dataDict[key].iloc[i : i + numLandmaks,3:4]))\n",
    "            b= np.ravel(np.asarray(dataDict[key].iloc[i : i + numLandmaks,4:5]))\n",
    "            #print(\"j:\",j)\n",
    "            processedData[j] = transposeInterleave(a,b)\n",
    "            processedLabels[j] =labels.iloc[key,2]\n",
    "            j+=1\n",
    "     # retun True\n",
    "\n",
    "dataTransp(preData,transData,transLabels) \n",
    "\n",
    "print(transData[-1])\n",
    "print(transLabels[-1])"
   ]
  },
  {
   "cell_type": "code",
   "execution_count": 11,
   "metadata": {},
   "outputs": [],
   "source": [
    "# Labels to one hot"
   ]
  },
  {
   "cell_type": "code",
   "execution_count": 12,
   "metadata": {},
   "outputs": [
    {
     "name": "stdout",
     "output_type": "stream",
     "text": [
      "(1989,)\n",
      "(1989, 3)\n",
      "[0. 0. 1.]\n"
     ]
    }
   ],
   "source": [
    "from keras.utils import to_categorical\n",
    "print(transLabels.shape)\n",
    "transLabels = to_categorical(transLabels)\n",
    "print(transLabels.shape)\n",
    "print(transLabels[-1])"
   ]
  },
  {
   "cell_type": "code",
   "execution_count": 13,
   "metadata": {},
   "outputs": [],
   "source": [
    "# Set apart Test Data"
   ]
  },
  {
   "cell_type": "code",
   "execution_count": 14,
   "metadata": {},
   "outputs": [
    {
     "name": "stdout",
     "output_type": "stream",
     "text": [
      "\tTraining records: 1591 \n",
      "\tTest records: 398\n"
     ]
    }
   ],
   "source": [
    "from sklearn.model_selection import train_test_split\n",
    "testDataRatio = 0.2\n",
    "\n",
    "X_train, X_test, y_train, y_test = train_test_split(transData,transLabels, test_size=testDataRatio)\n",
    "print( \"\\tTraining records:\", np.shape(X_train)[0], \"\\n\\tTest records:\", np.shape(X_test)[0])"
   ]
  },
  {
   "cell_type": "code",
   "execution_count": 15,
   "metadata": {},
   "outputs": [],
   "source": [
    "# model definition"
   ]
  },
  {
   "cell_type": "code",
   "execution_count": 16,
   "metadata": {},
   "outputs": [],
   "source": [
    "from keras import models\n",
    "from keras import layers\n",
    "from keras import backend as K\n",
    "K.clear_session()\n",
    "\n",
    "model = models.Sequential()\n",
    "model.add(layers.Dense(64, activation='relu', input_shape=(numCols,)))\n",
    "model.add(layers.Dense(42, activation='relu'))\n",
    "model.add(layers.Dense(len(labels.index), activation='softmax'))"
   ]
  },
  {
   "cell_type": "code",
   "execution_count": 17,
   "metadata": {},
   "outputs": [],
   "source": [
    "# model compile"
   ]
  },
  {
   "cell_type": "code",
   "execution_count": 18,
   "metadata": {},
   "outputs": [],
   "source": [
    "model.compile(optimizer='rmsprop',\n",
    "              loss='categorical_crossentropy',\n",
    "              metrics=['accuracy'])"
   ]
  },
  {
   "cell_type": "code",
   "execution_count": 19,
   "metadata": {},
   "outputs": [],
   "source": [
    "# training"
   ]
  },
  {
   "cell_type": "code",
   "execution_count": 20,
   "metadata": {},
   "outputs": [
    {
     "name": "stdout",
     "output_type": "stream",
     "text": [
      "Epoch 1/40\n",
      "40/40 [==============================] - 0s 4ms/step - loss: 0.5163 - accuracy: 0.8168 - val_loss: 0.3949 - val_accuracy: 0.8527\n",
      "Epoch 2/40\n",
      "40/40 [==============================] - 0s 811us/step - loss: 0.2888 - accuracy: 0.9088 - val_loss: 0.2696 - val_accuracy: 0.9091\n",
      "Epoch 3/40\n",
      "40/40 [==============================] - 0s 830us/step - loss: 0.2025 - accuracy: 0.9434 - val_loss: 0.1908 - val_accuracy: 0.9498\n",
      "Epoch 4/40\n",
      "40/40 [==============================] - 0s 840us/step - loss: 0.1492 - accuracy: 0.9544 - val_loss: 0.1460 - val_accuracy: 0.9624\n",
      "Epoch 5/40\n",
      "40/40 [==============================] - 0s 840us/step - loss: 0.1167 - accuracy: 0.9646 - val_loss: 0.1105 - val_accuracy: 0.9781\n",
      "Epoch 6/40\n",
      "40/40 [==============================] - 0s 812us/step - loss: 0.0907 - accuracy: 0.9717 - val_loss: 0.0983 - val_accuracy: 0.9781\n",
      "Epoch 7/40\n",
      "40/40 [==============================] - 0s 824us/step - loss: 0.0708 - accuracy: 0.9780 - val_loss: 0.0783 - val_accuracy: 0.9906\n",
      "Epoch 8/40\n",
      "40/40 [==============================] - 0s 826us/step - loss: 0.0547 - accuracy: 0.9851 - val_loss: 0.0635 - val_accuracy: 0.9937\n",
      "Epoch 9/40\n",
      "40/40 [==============================] - 0s 836us/step - loss: 0.0438 - accuracy: 0.9898 - val_loss: 0.0558 - val_accuracy: 0.9937\n",
      "Epoch 10/40\n",
      "40/40 [==============================] - 0s 821us/step - loss: 0.0347 - accuracy: 0.9906 - val_loss: 0.0524 - val_accuracy: 0.9937\n",
      "Epoch 11/40\n",
      "40/40 [==============================] - 0s 818us/step - loss: 0.0288 - accuracy: 0.9953 - val_loss: 0.0705 - val_accuracy: 0.9843\n",
      "Epoch 12/40\n",
      "40/40 [==============================] - 0s 866us/step - loss: 0.0253 - accuracy: 0.9945 - val_loss: 0.0447 - val_accuracy: 0.9937\n",
      "Epoch 13/40\n",
      "40/40 [==============================] - 0s 852us/step - loss: 0.0209 - accuracy: 0.9961 - val_loss: 0.0433 - val_accuracy: 0.9906\n",
      "Epoch 14/40\n",
      "40/40 [==============================] - 0s 853us/step - loss: 0.0160 - accuracy: 0.9969 - val_loss: 0.0425 - val_accuracy: 0.9937\n",
      "Epoch 15/40\n",
      "40/40 [==============================] - 0s 840us/step - loss: 0.0153 - accuracy: 0.9961 - val_loss: 0.0487 - val_accuracy: 0.9906\n",
      "Epoch 16/40\n",
      "40/40 [==============================] - 0s 834us/step - loss: 0.0116 - accuracy: 0.9984 - val_loss: 0.0373 - val_accuracy: 0.9937\n",
      "Epoch 17/40\n",
      "40/40 [==============================] - 0s 854us/step - loss: 0.0109 - accuracy: 0.9984 - val_loss: 0.0431 - val_accuracy: 0.9937\n",
      "Epoch 18/40\n",
      "40/40 [==============================] - 0s 831us/step - loss: 0.0095 - accuracy: 0.9976 - val_loss: 0.0416 - val_accuracy: 0.9937\n",
      "Epoch 19/40\n",
      "40/40 [==============================] - 0s 834us/step - loss: 0.0083 - accuracy: 0.9976 - val_loss: 0.0418 - val_accuracy: 0.9937\n",
      "Epoch 20/40\n",
      "40/40 [==============================] - 0s 846us/step - loss: 0.0064 - accuracy: 0.9984 - val_loss: 0.0387 - val_accuracy: 0.9937\n",
      "Epoch 21/40\n",
      "40/40 [==============================] - 0s 843us/step - loss: 0.0065 - accuracy: 0.9984 - val_loss: 0.0366 - val_accuracy: 0.9937\n",
      "Epoch 22/40\n",
      "40/40 [==============================] - 0s 819us/step - loss: 0.0051 - accuracy: 0.9984 - val_loss: 0.0749 - val_accuracy: 0.9875\n",
      "Epoch 23/40\n",
      "40/40 [==============================] - 0s 872us/step - loss: 0.0059 - accuracy: 0.9984 - val_loss: 0.0404 - val_accuracy: 0.9937\n",
      "Epoch 24/40\n",
      "40/40 [==============================] - 0s 840us/step - loss: 0.0044 - accuracy: 0.9992 - val_loss: 0.0372 - val_accuracy: 0.9937\n",
      "Epoch 25/40\n",
      "40/40 [==============================] - 0s 846us/step - loss: 0.0039 - accuracy: 0.9992 - val_loss: 0.0361 - val_accuracy: 0.9937\n",
      "Epoch 26/40\n",
      "40/40 [==============================] - 0s 820us/step - loss: 0.0033 - accuracy: 0.9992 - val_loss: 0.0313 - val_accuracy: 0.9937\n",
      "Epoch 27/40\n",
      "40/40 [==============================] - 0s 850us/step - loss: 0.0034 - accuracy: 0.9984 - val_loss: 0.0467 - val_accuracy: 0.9937\n",
      "Epoch 28/40\n",
      "40/40 [==============================] - 0s 832us/step - loss: 0.0031 - accuracy: 0.9992 - val_loss: 0.0504 - val_accuracy: 0.9906\n",
      "Epoch 29/40\n",
      "40/40 [==============================] - 0s 853us/step - loss: 0.0020 - accuracy: 0.9992 - val_loss: 0.0559 - val_accuracy: 0.9906\n",
      "Epoch 30/40\n",
      "40/40 [==============================] - 0s 853us/step - loss: 0.0022 - accuracy: 0.9992 - val_loss: 0.0357 - val_accuracy: 0.9937\n",
      "Epoch 31/40\n",
      "40/40 [==============================] - 0s 818us/step - loss: 0.0027 - accuracy: 0.9992 - val_loss: 0.0350 - val_accuracy: 0.9937\n",
      "Epoch 32/40\n",
      "40/40 [==============================] - 0s 892us/step - loss: 0.0023 - accuracy: 0.9992 - val_loss: 0.0364 - val_accuracy: 0.9937\n",
      "Epoch 33/40\n",
      "40/40 [==============================] - 0s 833us/step - loss: 0.0019 - accuracy: 0.9992 - val_loss: 0.0420 - val_accuracy: 0.9906\n",
      "Epoch 34/40\n",
      "40/40 [==============================] - 0s 844us/step - loss: 0.0020 - accuracy: 0.9992 - val_loss: 0.0336 - val_accuracy: 0.9937\n",
      "Epoch 35/40\n",
      "40/40 [==============================] - 0s 852us/step - loss: 0.0012 - accuracy: 1.0000 - val_loss: 0.0332 - val_accuracy: 0.9937\n",
      "Epoch 36/40\n",
      "40/40 [==============================] - 0s 843us/step - loss: 0.0017 - accuracy: 0.9992 - val_loss: 0.0481 - val_accuracy: 0.9937\n",
      "Epoch 37/40\n",
      "40/40 [==============================] - 0s 832us/step - loss: 0.0014 - accuracy: 1.0000 - val_loss: 0.0357 - val_accuracy: 0.9937\n",
      "Epoch 38/40\n",
      "40/40 [==============================] - 0s 839us/step - loss: 0.0012 - accuracy: 1.0000 - val_loss: 0.0391 - val_accuracy: 0.9937\n",
      "Epoch 39/40\n",
      "40/40 [==============================] - 0s 830us/step - loss: 8.1652e-04 - accuracy: 1.0000 - val_loss: 0.0398 - val_accuracy: 0.9937\n",
      "Epoch 40/40\n",
      "40/40 [==============================] - 0s 853us/step - loss: 0.0013 - accuracy: 0.9992 - val_loss: 0.0322 - val_accuracy: 0.9937\n"
     ]
    }
   ],
   "source": [
    "history = model.fit(X_train,\n",
    "                    y_train,\n",
    "                    epochs=40,\n",
    "                    #batch_size=512,\n",
    "                    validation_split=0.2)"
   ]
  },
  {
   "cell_type": "code",
   "execution_count": 21,
   "metadata": {},
   "outputs": [],
   "source": [
    "# Plotting the training and validation loss"
   ]
  },
  {
   "cell_type": "code",
   "execution_count": 21,
   "metadata": {},
   "outputs": [
    {
     "data": {
      "image/png": "[encoded data removed]",
      "text/plain": [
       "<Figure size 432x288 with 1 Axes>"
      ]
     },
     "metadata": {
      "needs_background": "light"
     },
     "output_type": "display_data"
    }
   ],
   "source": [
    "import matplotlib.pyplot as plt\n",
    "loss = history.history['loss']\n",
    "val_loss = history.history['val_loss']\n",
    "epochs = range(1, len(loss) + 1)\n",
    "plt.plot(epochs, loss, 'bo', label='Training loss')\n",
    "plt.plot(epochs, val_loss, 'b', label='Validation loss')\n",
    "plt.title('Training and validation loss')\n",
    "plt.xlabel('Epochs')\n",
    "plt.ylabel('Loss')\n",
    "plt.legend()\n",
    "plt.show()"
   ]
  },
  {
   "cell_type": "code",
   "execution_count": 22,
   "metadata": {},
   "outputs": [],
   "source": [
    "# Plotting the training and validation accuracy"
   ]
  },
  {
   "cell_type": "code",
   "execution_count": null,
   "metadata": {},
   "outputs": [],
   "source": []
  },
  {
   "cell_type": "code",
   "execution_count": 23,
   "metadata": {},
   "outputs": [
    {
     "data": {
      "image/png": "[encoded data removed]",
      "text/plain": [
       "<Figure size 432x288 with 1 Axes>"
      ]
     },
     "metadata": {
      "needs_background": "light"
     },
     "output_type": "display_data"
    }
   ],
   "source": [
    "plt.clf()\n",
    "acc = history.history['accuracy']\n",
    "val_acc = history.history['val_accuracy']\n",
    "plt.plot(epochs, acc, 'go', label='Training acc')\n",
    "plt.plot(epochs, val_acc, 'g', label='Validation acc')\n",
    "plt.title('Training and validation accuracy')\n",
    "plt.xlabel('Epochs')\n",
    "plt.ylabel('Loss')\n",
    "plt.legend()\n",
    "plt.show()"
   ]
  },
  {
   "cell_type": "code",
   "execution_count": 24,
   "metadata": {},
   "outputs": [],
   "source": [
    "# Evaluate the model"
   ]
  },
  {
   "cell_type": "code",
   "execution_count": 25,
   "metadata": {},
   "outputs": [
    {
     "name": "stdout",
     "output_type": "stream",
     "text": [
      "\n",
      "Testing loss: 6.56%, acc: 98.99%\n",
      "\n"
     ]
    }
   ],
   "source": [
    "loss, acc = model.evaluate(X_test, y_test, verbose=0)\n",
    "print('\\nTesting loss: {}%, acc: {}%\\n'.format(round(loss*100,2),round(acc*100,2)))"
   ]
  },
  {
   "cell_type": "code",
   "execution_count": 26,
   "metadata": {},
   "outputs": [],
   "source": [
    "# TODO: Model optimization"
   ]
  },
  {
   "cell_type": "code",
   "execution_count": 27,
   "metadata": {},
   "outputs": [],
   "source": [
    "# saving\n",
    "model.save('gestures003.h5')"
   ]
  },
  {
   "cell_type": "code",
   "execution_count": 28,
   "metadata": {},
   "outputs": [],
   "source": [
    "# To tflite"
   ]
  },
  {
   "cell_type": "code",
   "execution_count": 29,
   "metadata": {},
   "outputs": [
    {
     "name": "stdout",
     "output_type": "stream",
     "text": [
      "<module 'tensorflow._api.v2.version' from '/home/nghia/venv/lib/python3.6/site-packages/tensorflow/_api/v2/version/__init__.py'>\n",
      "WARNING:tensorflow:From /home/nghia/venv/lib/python3.6/site-packages/tensorflow/python/training/tracking/tracking.py:111: Model.state_updates (from tensorflow.python.keras.engine.training) is deprecated and will be removed in a future version.\n",
      "Instructions for updating:\n",
      "This property should not be used in TensorFlow 2.0, as updates are applied automatically.\n",
      "WARNING:tensorflow:From /home/nghia/venv/lib/python3.6/site-packages/tensorflow/python/training/tracking/tracking.py:111: Layer.updates (from tensorflow.python.keras.engine.base_layer) is deprecated and will be removed in a future version.\n",
      "Instructions for updating:\n",
      "This property should not be used in TensorFlow 2.0, as updates are applied automatically.\n",
      "INFO:tensorflow:Assets written to: /tmp/tmpoqo7uv5x/assets\n"
     ]
    },
    {
     "data": {
      "text/plain": [
       "24124"
      ]
     },
     "execution_count": 29,
     "metadata": {},
     "output_type": "execute_result"
    }
   ],
   "source": [
    "import tensorflow as tf\n",
    "print(tf.version)\n",
    "\n",
    "converter = tf.lite.TFLiteConverter.from_keras_model(model) \n",
    "liteModel = converter.convert()\n",
    "\n",
    "open(\"gestures003.tflite\", \"wb\").write(liteModel)\n",
    "\n",
    "#file = open( 'gestures001.tflite' , 'wb' ) \n",
    "#file.write( liteModel )"
   ]
  },
  {
   "cell_type": "code",
   "execution_count": null,
   "metadata": {},
   "outputs": [],
   "source": []
  },
  {
   "cell_type": "code",
   "execution_count": null,
   "metadata": {},
   "outputs": [],
   "source": []
  }
 ],
 "metadata": {
  "kernelspec": {
   "display_name": "Python 3",
   "language": "python",
   "name": "python3"
  },
  "language_info": {
   "codemirror_mode": {
    "name": "ipython",
    "version": 3
   },
   "file_extension": ".py",
   "mimetype": "text/x-python",
   "name": "python",
   "nbconvert_exporter": "python",
   "pygments_lexer": "ipython3",
   "version": "3.6.9"
  }
 },
 "nbformat": 4,
 "nbformat_minor": 5
}
