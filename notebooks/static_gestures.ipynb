{
 "cells": [
  {
   "cell_type": "code",
   "execution_count": 1,
   "metadata": {},
   "outputs": [],
   "source": [
    "import os\n",
    "import pandas as pd\n",
    "import numpy as np"
   ]
  },
  {
   "cell_type": "code",
   "execution_count": 2,
   "metadata": {},
   "outputs": [],
   "source": [
    "dataPath = '../myMediapipe/trainingData/staticGestures/210316_1115'"
   ]
  },
  {
   "cell_type": "code",
   "execution_count": 3,
   "metadata": {},
   "outputs": [
    {
     "name": "stdout",
     "output_type": "stream",
     "text": [
      "closedPalm.csv\tindex.csv\t       labels.csv    static_gestures_labels.txt\n",
      "fist.csv\tindexAnularClosed.csv  openPalm.csv  test.csv\n",
      "gun.csv\t\tindexAnularOpen.csv    scissors.csv  thumbIndexAnularOpen.csv\n"
     ]
    }
   ],
   "source": [
    "!ls $dataPath"
   ]
  },
  {
   "cell_type": "code",
   "execution_count": 4,
   "metadata": {},
   "outputs": [
    {
     "name": "stdout",
     "output_type": "stream",
     "text": [
      "                         0                     1  2\n",
      "0                Open Palm              openPalm  0\n",
      "1              Closed Palm            closedPalm  1\n",
      "2                     Fist                  fist  2\n",
      "3             Index Finger                 index  3\n",
      "4        Index Anular Open       indexAnularOpen  4\n",
      "5      Index Anular Closed     indexAnularClosed  5\n",
      "6  Thumb Index Anular Open  thumbIndexAnularOpen  6\n",
      "7                 Scissors              scissors  7\n"
     ]
    }
   ],
   "source": [
    "labelsFile = os.path.join(dataPath, \"labels.csv\")\n",
    "labels = pd.read_csv(labelsFile,header=None)\n",
    "print(labels)"
   ]
  },
  {
   "cell_type": "code",
   "execution_count": 5,
   "metadata": {},
   "outputs": [
    {
     "name": "stdout",
     "output_type": "stream",
     "text": [
      "Loading file: ../myMediapipe/trainingData/staticGestures/210316_1115/openPalm.csv \tNumber of Rows: 40221\n",
      "0\n",
      "Loading file: ../myMediapipe/trainingData/staticGestures/210316_1115/closedPalm.csv \tNumber of Rows: 34870\n",
      "1\n",
      "Loading file: ../myMediapipe/trainingData/staticGestures/210316_1115/fist.csv \tNumber of Rows: 36174\n",
      "2\n",
      "Loading file: ../myMediapipe/trainingData/staticGestures/210316_1115/index.csv \tNumber of Rows: 43561\n",
      "3\n",
      "Loading file: ../myMediapipe/trainingData/staticGestures/210316_1115/indexAnularOpen.csv \tNumber of Rows: 42852\n",
      "4\n",
      "Loading file: ../myMediapipe/trainingData/staticGestures/210316_1115/indexAnularClosed.csv \tNumber of Rows: 37798\n",
      "5\n",
      "Loading file: ../myMediapipe/trainingData/staticGestures/210316_1115/thumbIndexAnularOpen.csv \tNumber of Rows: 38443\n",
      "6\n",
      "Loading file: ../myMediapipe/trainingData/staticGestures/210316_1115/scissors.csv \tNumber of Rows: 35471\n",
      "7\n"
     ]
    }
   ],
   "source": [
    "preData  = {}\n",
    "for label in labels.itertuples():\n",
    "    trainingFile = os.path.join(dataPath,label[2] + \".csv\")\n",
    "    preData[label.Index] = pd.read_csv(trainingFile,header=None)\n",
    "    print(\"Loading file:\", trainingFile, \"\\tNumber of Rows:\" , len(preData[label.Index].index))\n",
    "    print(label.Index)"
   ]
  },
  {
   "cell_type": "code",
   "execution_count": 6,
   "metadata": {},
   "outputs": [
    {
     "name": "stdout",
     "output_type": "stream",
     "text": [
      "Record #: 0 \thas: 6 incomplete captures\n",
      "Record #: 1 \thas: 10 incomplete captures\n",
      "Record #: 2 \thas: 12 incomplete captures\n",
      "Record #: 3 \thas: 7 incomplete captures\n",
      "Record #: 4 \thas: 12 incomplete captures\n",
      "Record #: 5 \thas: 19 incomplete captures\n",
      "Record #: 6 \thas: 13 incomplete captures\n",
      "Record #: 7 \thas: 2 incomplete captures\n"
     ]
    }
   ],
   "source": [
    "# cleaning\n",
    "for key in preData.keys():\n",
    "    print(\"Record #:\", key, \"\\thas:\",len(preData[key].index) % 21, \"incomplete captures\")\n",
    "    preData[key].drop(preData[key].tail(len(preData[key].index) % 21).index,inplace=True)"
   ]
  },
  {
   "cell_type": "code",
   "execution_count": 7,
   "metadata": {},
   "outputs": [
    {
     "name": "stdout",
     "output_type": "stream",
     "text": [
      "34860\n",
      "34860\n",
      "34860\n",
      "34860\n",
      "34860\n",
      "34860\n",
      "34860\n",
      "34860\n"
     ]
    }
   ],
   "source": [
    "# balance data\n",
    "recordsPerClass = len(preData[0].index) #initial value\n",
    "#Calculate smallest class\n",
    "for key in preData.keys():\n",
    "    if recordsPerClass > len(preData[key].index): \n",
    "        recordsPerClass=len(preData[key].index)\n",
    "    #print(recordsPerClass)\n",
    "\n",
    "#Trimming\n",
    "for key in preData.keys():\n",
    "    preData[key] = preData[key].head(recordsPerClass)\n",
    "    print(len(preData[key].index))"
   ]
  },
  {
   "cell_type": "code",
   "execution_count": 8,
   "metadata": {},
   "outputs": [],
   "source": [
    "# Builds training and label array"
   ]
  },
  {
   "cell_type": "code",
   "execution_count": 9,
   "metadata": {},
   "outputs": [
    {
     "name": "stdout",
     "output_type": "stream",
     "text": [
      "Number of Rows in total: 13280\n",
      "(13280, 42) float64\n",
      "(13280,) int16\n"
     ]
    }
   ],
   "source": [
    "numTrainRows, numTestRows = 0,0\n",
    "numLandmaks = 21\n",
    "numCols = numLandmaks*2\n",
    "\n",
    "def countRows(dataDict):\n",
    "    rowsCount=0\n",
    "    for key in dataDict.keys():\n",
    "        rowsCount += len(dataDict[key].index)\n",
    "    return rowsCount\n",
    "\n",
    "numRows = countRows(preData)\n",
    "#numTestRows = countRows(testData)\n",
    "\n",
    "numTransRows = int(numRows / numLandmaks)\n",
    "transData = np.zeros((numTransRows,numCols),preData[1][4].dtypes)\n",
    "transLabels = np.zeros((numTransRows),np.int16)\n",
    "\n",
    "#numTestRows = int(numTestRows / numLandmaks)\n",
    "#testingData = np.zeros((numTestRows,numCols),preData[1][4].dtypes)\n",
    "#testingLabels = np.zeros((numTestRows),np.int16)\n",
    "\n",
    "print(\"Number of Rows in total:\", numTransRows)  \n",
    "print(transData.shape, transData.dtype)\n",
    "print(transLabels.shape, transLabels.dtype)\n",
    "\n",
    "#print(testingData.shape, testingData.dtype)\n",
    "#print(testingLabels.shape, testingLabels.dtype)\n"
   ]
  },
  {
   "cell_type": "code",
   "execution_count": 10,
   "metadata": {},
   "outputs": [
    {
     "name": "stdout",
     "output_type": "stream",
     "text": [
      "[ 0.991188  0.        0.       -0.731462 -1.454655  0.       -2.472789\n",
      "  0.        0.        0.        0.        0.83008   3.112623  0.\n",
      " -3.089024  0.        0.        0.        0.        2.647737 -3.005331\n",
      "  0.       -3.133602  0.        0.        0.        0.       -0.422794\n",
      " -0.562422  0.       -2.883348  0.        0.        0.        0.\n",
      "  0.       -1.362249  0.       -2.965212  0.        0.        0.      ]\n",
      "7\n"
     ]
    }
   ],
   "source": [
    "def transposeInterleave(a, b):\n",
    "    c = np.empty((a.size + b.size,), dtype=a.dtype)\n",
    "    c[0::2] = a\n",
    "    c[1::2] = b\n",
    "    return c\n",
    "\n",
    "def dataTransp(dataDict,processedData,processedLabels):\n",
    "    j = 0\n",
    "    for key in dataDict.keys():\n",
    "        for i in range(0, len(dataDict[key].index), numLandmaks):  \n",
    "            #print(dataDict[1].iloc[i : i + numLandmaks,3:5])\n",
    "            a= np.ravel(np.asarray(dataDict[key].iloc[i : i + numLandmaks,3:4]))\n",
    "            b= np.ravel(np.asarray(dataDict[key].iloc[i : i + numLandmaks,4:5]))\n",
    "            #print(\"j:\",j)\n",
    "            processedData[j] = transposeInterleave(a,b)\n",
    "            processedLabels[j] =labels.iloc[key,2]\n",
    "            j+=1\n",
    "     # retun True\n",
    "\n",
    "dataTransp(preData,transData,transLabels) \n",
    "\n",
    "print(transData[-1])\n",
    "print(transLabels[-1])"
   ]
  },
  {
   "cell_type": "code",
   "execution_count": 11,
   "metadata": {},
   "outputs": [],
   "source": [
    "# Labels to one hot"
   ]
  },
  {
   "cell_type": "code",
   "execution_count": 12,
   "metadata": {},
   "outputs": [
    {
     "name": "stdout",
     "output_type": "stream",
     "text": [
      "(13280,)\n",
      "(13280, 8)\n",
      "[0. 0. 0. 0. 0. 0. 0. 1.]\n"
     ]
    }
   ],
   "source": [
    "from keras.utils import to_categorical\n",
    "print(transLabels.shape)\n",
    "transLabels = to_categorical(transLabels)\n",
    "print(transLabels.shape)\n",
    "print(transLabels[-1])"
   ]
  },
  {
   "cell_type": "code",
   "execution_count": 13,
   "metadata": {},
   "outputs": [],
   "source": [
    "# Set apart Test Data"
   ]
  },
  {
   "cell_type": "code",
   "execution_count": 14,
   "metadata": {},
   "outputs": [
    {
     "name": "stdout",
     "output_type": "stream",
     "text": [
      "\tTraining records: 10624 \tTest records: 2656\n"
     ]
    }
   ],
   "source": [
    "from sklearn.model_selection import train_test_split\n",
    "testDataRatio = 0.2\n",
    "\n",
    "X_train, X_test, y_train, y_test = train_test_split(transData,transLabels, test_size=testDataRatio)\n",
    "print( \"\\tTraining records:\", np.shape(X_train)[0], \"\\tTest records:\", np.shape(X_test)[0])"
   ]
  },
  {
   "cell_type": "code",
   "execution_count": 15,
   "metadata": {},
   "outputs": [],
   "source": [
    "# model definition"
   ]
  },
  {
   "cell_type": "code",
   "execution_count": 16,
   "metadata": {},
   "outputs": [],
   "source": [
    "from keras import models\n",
    "from keras import layers\n",
    "from keras import backend as K\n",
    "K.clear_session()\n",
    "\n",
    "model = models.Sequential()\n",
    "model.add(layers.Dense(64, activation='relu', input_shape=(numCols,)))\n",
    "model.add(layers.Dense(42, activation='relu'))\n",
    "model.add(layers.Dense(len(labels.index), activation='softmax'))"
   ]
  },
  {
   "cell_type": "code",
   "execution_count": 17,
   "metadata": {},
   "outputs": [],
   "source": [
    "# model compile"
   ]
  },
  {
   "cell_type": "code",
   "execution_count": 18,
   "metadata": {},
   "outputs": [],
   "source": [
    "model.compile(optimizer='rmsprop',\n",
    "              loss='categorical_crossentropy',\n",
    "              metrics=['accuracy'])"
   ]
  },
  {
   "cell_type": "code",
   "execution_count": 19,
   "metadata": {},
   "outputs": [],
   "source": [
    "# training"
   ]
  },
  {
   "cell_type": "code",
   "execution_count": 20,
   "metadata": {},
   "outputs": [
    {
     "name": "stdout",
     "output_type": "stream",
     "text": [
      "Epoch 1/40\n",
      "266/266 [==============================] - 1s 2ms/step - loss: 1.3803 - accuracy: 0.5255 - val_loss: 1.0462 - val_accuracy: 0.6428\n",
      "Epoch 2/40\n",
      "266/266 [==============================] - 0s 2ms/step - loss: 0.8604 - accuracy: 0.7188 - val_loss: 0.7314 - val_accuracy: 0.7689\n",
      "Epoch 3/40\n",
      "266/266 [==============================] - 0s 2ms/step - loss: 0.6336 - accuracy: 0.8036 - val_loss: 0.5806 - val_accuracy: 0.8212\n",
      "Epoch 4/40\n",
      "266/266 [==============================] - 0s 2ms/step - loss: 0.5077 - accuracy: 0.8388 - val_loss: 0.4985 - val_accuracy: 0.8315\n",
      "Epoch 5/40\n",
      "266/266 [==============================] - 0s 2ms/step - loss: 0.4279 - accuracy: 0.8693 - val_loss: 0.4193 - val_accuracy: 0.8711\n",
      "Epoch 6/40\n",
      "266/266 [==============================] - 0s 2ms/step - loss: 0.3737 - accuracy: 0.8878 - val_loss: 0.4002 - val_accuracy: 0.8781\n",
      "Epoch 7/40\n",
      "266/266 [==============================] - 0s 2ms/step - loss: 0.3362 - accuracy: 0.8988 - val_loss: 0.3592 - val_accuracy: 0.8885\n",
      "Epoch 8/40\n",
      "266/266 [==============================] - 0s 2ms/step - loss: 0.3091 - accuracy: 0.9086 - val_loss: 0.3317 - val_accuracy: 0.9031\n",
      "Epoch 9/40\n",
      "266/266 [==============================] - 0s 2ms/step - loss: 0.2871 - accuracy: 0.9141 - val_loss: 0.3262 - val_accuracy: 0.9078\n",
      "Epoch 10/40\n",
      "266/266 [==============================] - 0s 2ms/step - loss: 0.2657 - accuracy: 0.9206 - val_loss: 0.3073 - val_accuracy: 0.9167\n",
      "Epoch 11/40\n",
      "266/266 [==============================] - 0s 2ms/step - loss: 0.2494 - accuracy: 0.9274 - val_loss: 0.3006 - val_accuracy: 0.9172\n",
      "Epoch 12/40\n",
      "266/266 [==============================] - 0s 2ms/step - loss: 0.2354 - accuracy: 0.9328 - val_loss: 0.2775 - val_accuracy: 0.9285\n",
      "Epoch 13/40\n",
      "266/266 [==============================] - 0s 2ms/step - loss: 0.2206 - accuracy: 0.9368 - val_loss: 0.2847 - val_accuracy: 0.9238\n",
      "Epoch 14/40\n",
      "266/266 [==============================] - 0s 2ms/step - loss: 0.2114 - accuracy: 0.9405 - val_loss: 0.2651 - val_accuracy: 0.9294\n",
      "Epoch 15/40\n",
      "266/266 [==============================] - 0s 2ms/step - loss: 0.1993 - accuracy: 0.9419 - val_loss: 0.2586 - val_accuracy: 0.9379\n",
      "Epoch 16/40\n",
      "266/266 [==============================] - 0s 2ms/step - loss: 0.1893 - accuracy: 0.9448 - val_loss: 0.2616 - val_accuracy: 0.9360\n",
      "Epoch 17/40\n",
      "266/266 [==============================] - 0s 2ms/step - loss: 0.1810 - accuracy: 0.9487 - val_loss: 0.2564 - val_accuracy: 0.9355\n",
      "Epoch 18/40\n",
      "266/266 [==============================] - 0s 2ms/step - loss: 0.1719 - accuracy: 0.9512 - val_loss: 0.2625 - val_accuracy: 0.9322\n",
      "Epoch 19/40\n",
      "266/266 [==============================] - 0s 2ms/step - loss: 0.1653 - accuracy: 0.9519 - val_loss: 0.2507 - val_accuracy: 0.9388\n",
      "Epoch 20/40\n",
      "266/266 [==============================] - 0s 2ms/step - loss: 0.1571 - accuracy: 0.9548 - val_loss: 0.2445 - val_accuracy: 0.9402\n",
      "Epoch 21/40\n",
      "266/266 [==============================] - 0s 2ms/step - loss: 0.1521 - accuracy: 0.9558 - val_loss: 0.2293 - val_accuracy: 0.9412\n",
      "Epoch 22/40\n",
      "266/266 [==============================] - 0s 2ms/step - loss: 0.1467 - accuracy: 0.9578 - val_loss: 0.2353 - val_accuracy: 0.9435\n",
      "Epoch 23/40\n",
      "266/266 [==============================] - 0s 2ms/step - loss: 0.1393 - accuracy: 0.9582 - val_loss: 0.2373 - val_accuracy: 0.9445\n",
      "Epoch 24/40\n",
      "266/266 [==============================] - 0s 2ms/step - loss: 0.1363 - accuracy: 0.9605 - val_loss: 0.2344 - val_accuracy: 0.9431\n",
      "Epoch 25/40\n",
      "266/266 [==============================] - 0s 2ms/step - loss: 0.1325 - accuracy: 0.9619 - val_loss: 0.2308 - val_accuracy: 0.9402\n",
      "Epoch 26/40\n",
      "266/266 [==============================] - 0s 2ms/step - loss: 0.1265 - accuracy: 0.9627 - val_loss: 0.2238 - val_accuracy: 0.9468\n",
      "Epoch 27/40\n",
      "266/266 [==============================] - 0s 2ms/step - loss: 0.1223 - accuracy: 0.9642 - val_loss: 0.2330 - val_accuracy: 0.9398\n",
      "Epoch 28/40\n",
      "266/266 [==============================] - 0s 2ms/step - loss: 0.1204 - accuracy: 0.9651 - val_loss: 0.2324 - val_accuracy: 0.9449\n",
      "Epoch 29/40\n",
      "266/266 [==============================] - 0s 2ms/step - loss: 0.1159 - accuracy: 0.9651 - val_loss: 0.2307 - val_accuracy: 0.9464\n",
      "Epoch 30/40\n",
      "266/266 [==============================] - 0s 2ms/step - loss: 0.1126 - accuracy: 0.9658 - val_loss: 0.2335 - val_accuracy: 0.9459\n",
      "Epoch 31/40\n",
      "266/266 [==============================] - 0s 2ms/step - loss: 0.1100 - accuracy: 0.9671 - val_loss: 0.2318 - val_accuracy: 0.9464\n",
      "Epoch 32/40\n",
      "266/266 [==============================] - 0s 2ms/step - loss: 0.1052 - accuracy: 0.9695 - val_loss: 0.2314 - val_accuracy: 0.9464\n",
      "Epoch 33/40\n",
      "266/266 [==============================] - 0s 2ms/step - loss: 0.1050 - accuracy: 0.9687 - val_loss: 0.2351 - val_accuracy: 0.9473\n",
      "Epoch 34/40\n",
      "266/266 [==============================] - 0s 2ms/step - loss: 0.0991 - accuracy: 0.9691 - val_loss: 0.2261 - val_accuracy: 0.9482\n",
      "Epoch 35/40\n",
      "266/266 [==============================] - 0s 2ms/step - loss: 0.0976 - accuracy: 0.9712 - val_loss: 0.2276 - val_accuracy: 0.9459\n",
      "Epoch 36/40\n",
      "266/266 [==============================] - 0s 2ms/step - loss: 0.0943 - accuracy: 0.9705 - val_loss: 0.2389 - val_accuracy: 0.9445\n",
      "Epoch 37/40\n",
      "266/266 [==============================] - 0s 2ms/step - loss: 0.0930 - accuracy: 0.9709 - val_loss: 0.2375 - val_accuracy: 0.9478\n",
      "Epoch 38/40\n",
      "266/266 [==============================] - 0s 2ms/step - loss: 0.0912 - accuracy: 0.9734 - val_loss: 0.2330 - val_accuracy: 0.9487\n",
      "Epoch 39/40\n",
      "266/266 [==============================] - 0s 2ms/step - loss: 0.0862 - accuracy: 0.9728 - val_loss: 0.2423 - val_accuracy: 0.9473\n",
      "Epoch 40/40\n",
      "266/266 [==============================] - 0s 2ms/step - loss: 0.0854 - accuracy: 0.9751 - val_loss: 0.2455 - val_accuracy: 0.9511\n"
     ]
    }
   ],
   "source": [
    "history = model.fit(X_train,\n",
    "                    y_train,\n",
    "                    epochs=40,\n",
    "                    #batch_size=512,\n",
    "                    validation_split=0.2)"
   ]
  },
  {
   "cell_type": "code",
   "execution_count": 21,
   "metadata": {},
   "outputs": [],
   "source": [
    "# Plotting the training and validation loss"
   ]
  },
  {
   "cell_type": "code",
   "execution_count": 22,
   "metadata": {},
   "outputs": [
    {
     "data": {
      "image/png": "[encoded data removed]",
      "text/plain": [
       "<Figure size 432x288 with 1 Axes>"
      ]
     },
     "metadata": {
      "needs_background": "light"
     },
     "output_type": "display_data"
    }
   ],
   "source": [
    "import matplotlib.pyplot as plt\n",
    "loss = history.history['loss']\n",
    "val_loss = history.history['val_loss']\n",
    "epochs = range(1, len(loss) + 1)\n",
    "plt.plot(epochs, loss, 'bo', label='Training loss')\n",
    "plt.plot(epochs, val_loss, 'b', label='Validation loss')\n",
    "plt.title('Training and validation loss')\n",
    "plt.xlabel('Epochs')\n",
    "plt.ylabel('Loss')\n",
    "plt.legend()\n",
    "plt.show()"
   ]
  },
  {
   "cell_type": "code",
   "execution_count": 23,
   "metadata": {},
   "outputs": [],
   "source": [
    "# Plotting the training and validation accuracy"
   ]
  },
  {
   "cell_type": "code",
   "execution_count": null,
   "metadata": {},
   "outputs": [],
   "source": []
  },
  {
   "cell_type": "code",
   "execution_count": 24,
   "metadata": {},
   "outputs": [
    {
     "data": {
      "image/png": "[encoded data removed]",
      "text/plain": [
       "<Figure size 432x288 with 1 Axes>"
      ]
     },
     "metadata": {
      "needs_background": "light"
     },
     "output_type": "display_data"
    }
   ],
   "source": [
    "plt.clf()\n",
    "acc = history.history['accuracy']\n",
    "val_acc = history.history['val_accuracy']\n",
    "plt.plot(epochs, acc, 'go', label='Training acc')\n",
    "plt.plot(epochs, val_acc, 'g', label='Validation acc')\n",
    "plt.title('Training and validation accuracy')\n",
    "plt.xlabel('Epochs')\n",
    "plt.ylabel('Loss')\n",
    "plt.legend()\n",
    "plt.show()"
   ]
  },
  {
   "cell_type": "code",
   "execution_count": 25,
   "metadata": {},
   "outputs": [],
   "source": [
    "# Evaluate the model"
   ]
  },
  {
   "cell_type": "code",
   "execution_count": 26,
   "metadata": {},
   "outputs": [
    {
     "name": "stdout",
     "output_type": "stream",
     "text": [
      "\n",
      "Testing loss: 24.15%, acc: 95.33%\n",
      "\n"
     ]
    }
   ],
   "source": [
    "loss, acc = model.evaluate(X_test, y_test, verbose=0)\n",
    "print('\\nTesting loss: {}%, acc: {}%\\n'.format(round(loss*100,2),round(acc*100,2)))"
   ]
  },
  {
   "cell_type": "code",
   "execution_count": 27,
   "metadata": {},
   "outputs": [],
   "source": [
    "# TODO: Model optimization"
   ]
  },
  {
   "cell_type": "code",
   "execution_count": 28,
   "metadata": {},
   "outputs": [],
   "source": [
    "# saving\n",
    "model.save('gestures003.h5')"
   ]
  },
  {
   "cell_type": "code",
   "execution_count": 29,
   "metadata": {},
   "outputs": [],
   "source": [
    "# To tflite"
   ]
  },
  {
   "cell_type": "code",
   "execution_count": 30,
   "metadata": {},
   "outputs": [
    {
     "name": "stdout",
     "output_type": "stream",
     "text": [
      "<module 'tensorflow._api.v2.version' from '/home/nghia/venv/lib/python3.6/site-packages/tensorflow/_api/v2/version/__init__.py'>\n",
      "WARNING:tensorflow:From /home/nghia/venv/lib/python3.6/site-packages/tensorflow/python/training/tracking/tracking.py:111: Model.state_updates (from tensorflow.python.keras.engine.training) is deprecated and will be removed in a future version.\n",
      "Instructions for updating:\n",
      "This property should not be used in TensorFlow 2.0, as updates are applied automatically.\n",
      "WARNING:tensorflow:From /home/nghia/venv/lib/python3.6/site-packages/tensorflow/python/training/tracking/tracking.py:111: Layer.updates (from tensorflow.python.keras.engine.base_layer) is deprecated and will be removed in a future version.\n",
      "Instructions for updating:\n",
      "This property should not be used in TensorFlow 2.0, as updates are applied automatically.\n",
      "INFO:tensorflow:Assets written to: /tmp/tmpb3l8wk1x/assets\n"
     ]
    },
    {
     "data": {
      "text/plain": [
       "24984"
      ]
     },
     "execution_count": 30,
     "metadata": {},
     "output_type": "execute_result"
    }
   ],
   "source": [
    "import tensorflow as tf\n",
    "print(tf.version)\n",
    "\n",
    "converter = tf.lite.TFLiteConverter.from_keras_model(model) \n",
    "liteModel = converter.convert()\n",
    "\n",
    "open(\"gestures003.tflite\", \"wb\").write(liteModel)\n",
    "\n",
    "#file = open( 'gestures001.tflite' , 'wb' ) \n",
    "#file.write( liteModel )"
   ]
  },
  {
   "cell_type": "code",
   "execution_count": null,
   "metadata": {},
   "outputs": [],
   "source": []
  },
  {
   "cell_type": "code",
   "execution_count": null,
   "metadata": {},
   "outputs": [],
   "source": []
  }
 ],
 "metadata": {
  "kernelspec": {
   "display_name": "Python 3",
   "language": "python",
   "name": "python3"
  },
  "language_info": {
   "codemirror_mode": {
    "name": "ipython",
    "version": 3
   },
   "file_extension": ".py",
   "mimetype": "text/x-python",
   "name": "python",
   "nbconvert_exporter": "python",
   "pygments_lexer": "ipython3",
   "version": "3.6.9"
  }
 },
 "nbformat": 4,
 "nbformat_minor": 5
}
