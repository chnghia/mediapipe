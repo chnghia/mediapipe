{
 "cells": [
  {
   "cell_type": "code",
   "execution_count": 1,
   "metadata": {},
   "outputs": [],
   "source": [
    "import os\n",
    "import pandas as pd\n",
    "import numpy as np"
   ]
  },
  {
   "cell_type": "code",
   "execution_count": 2,
   "metadata": {},
   "outputs": [],
   "source": [
    "dataPath = '../myMediapipe/trainingData/staticGestures/210318_0950'"
   ]
  },
  {
   "cell_type": "code",
   "execution_count": 3,
   "metadata": {},
   "outputs": [
    {
     "name": "stdout",
     "output_type": "stream",
     "text": [
      "labels.csv  paper2.csv\trock.csv   scissor.csv\t static_gestures_labels.txt\n",
      "paper.csv   paper3.csv\trock1.csv  scissor1.csv\n",
      "paper1.csv  paper4.csv\trock2.csv  scissor2.csv\n"
     ]
    }
   ],
   "source": [
    "!ls $dataPath"
   ]
  },
  {
   "cell_type": "code",
   "execution_count": 4,
   "metadata": {},
   "outputs": [
    {
     "name": "stdout",
     "output_type": "stream",
     "text": [
      "         0        1  2\n",
      "0    Paper   paper1  0\n",
      "1     Rock     rock  1\n",
      "2  Scissor  scissor  2\n"
     ]
    }
   ],
   "source": [
    "labelsFile = os.path.join(dataPath, \"labels.csv\")\n",
    "labels = pd.read_csv(labelsFile,header=None)\n",
    "print(labels)"
   ]
  },
  {
   "cell_type": "code",
   "execution_count": 5,
   "metadata": {},
   "outputs": [
    {
     "name": "stdout",
     "output_type": "stream",
     "text": [
      "Loading file: ../myMediapipe/trainingData/staticGestures/210318_0950/paper1.csv \tNumber of Rows: 13930\n",
      "0\n",
      "Loading file: ../myMediapipe/trainingData/staticGestures/210318_0950/rock.csv \tNumber of Rows: 86157\n",
      "1\n",
      "Loading file: ../myMediapipe/trainingData/staticGestures/210318_0950/scissor.csv \tNumber of Rows: 49411\n",
      "2\n"
     ]
    }
   ],
   "source": [
    "preData  = {}\n",
    "for label in labels.itertuples():\n",
    "    trainingFile = os.path.join(dataPath,label[2] + \".csv\")\n",
    "    preData[label.Index] = pd.read_csv(trainingFile,header=None)\n",
    "    print(\"Loading file:\", trainingFile, \"\\tNumber of Rows:\" , len(preData[label.Index].index))\n",
    "    print(label.Index)"
   ]
  },
  {
   "cell_type": "code",
   "execution_count": 6,
   "metadata": {},
   "outputs": [
    {
     "name": "stdout",
     "output_type": "stream",
     "text": [
      "Record #: 0 \thas: 7 incomplete captures\n",
      "Record #: 1 \thas: 15 incomplete captures\n",
      "Record #: 2 \thas: 19 incomplete captures\n"
     ]
    }
   ],
   "source": [
    "# cleaning\n",
    "for key in preData.keys():\n",
    "    print(\"Record #:\", key, \"\\thas:\",len(preData[key].index) % 21, \"incomplete captures\")\n",
    "    preData[key].drop(preData[key].tail(len(preData[key].index) % 21).index,inplace=True)"
   ]
  },
  {
   "cell_type": "code",
   "execution_count": 7,
   "metadata": {},
   "outputs": [
    {
     "name": "stdout",
     "output_type": "stream",
     "text": [
      "13923\n",
      "13923\n",
      "13923\n"
     ]
    }
   ],
   "source": [
    "# balance data\n",
    "recordsPerClass = len(preData[0].index) #initial value\n",
    "#Calculate smallest class\n",
    "for key in preData.keys():\n",
    "    if recordsPerClass > len(preData[key].index): \n",
    "        recordsPerClass=len(preData[key].index)\n",
    "    #print(recordsPerClass)\n",
    "\n",
    "#Trimming\n",
    "for key in preData.keys():\n",
    "    preData[key] = preData[key].head(recordsPerClass)\n",
    "    print(len(preData[key].index))"
   ]
  },
  {
   "cell_type": "code",
   "execution_count": 8,
   "metadata": {},
   "outputs": [],
   "source": [
    "# Builds training and label array"
   ]
  },
  {
   "cell_type": "code",
   "execution_count": 8,
   "metadata": {},
   "outputs": [
    {
     "name": "stdout",
     "output_type": "stream",
     "text": [
      "Number of Rows in total: 1989\n",
      "(1989, 42) float64\n",
      "(1989,) int16\n"
     ]
    }
   ],
   "source": [
    "numTrainRows, numTestRows = 0,0\n",
    "numLandmaks = 21\n",
    "numCols = numLandmaks*2\n",
    "\n",
    "def countRows(dataDict):\n",
    "    rowsCount=0\n",
    "    for key in dataDict.keys():\n",
    "        rowsCount += len(dataDict[key].index)\n",
    "    return rowsCount\n",
    "\n",
    "numRows = countRows(preData)\n",
    "#numTestRows = countRows(testData)\n",
    "\n",
    "numTransRows = int(numRows / numLandmaks)\n",
    "transData = np.zeros((numTransRows,numCols),preData[1][4].dtypes)\n",
    "transLabels = np.zeros((numTransRows),np.int16)\n",
    "\n",
    "#numTestRows = int(numTestRows / numLandmaks)\n",
    "#testingData = np.zeros((numTestRows,numCols),preData[1][4].dtypes)\n",
    "#testingLabels = np.zeros((numTestRows),np.int16)\n",
    "\n",
    "print(\"Number of Rows in total:\", numTransRows)  \n",
    "print(transData.shape, transData.dtype)\n",
    "print(transLabels.shape, transLabels.dtype)\n",
    "\n",
    "#print(testingData.shape, testingData.dtype)\n",
    "#print(testingLabels.shape, testingLabels.dtype)\n"
   ]
  },
  {
   "cell_type": "code",
   "execution_count": 9,
   "metadata": {},
   "outputs": [
    {
     "name": "stdout",
     "output_type": "stream",
     "text": [
      "[ 2.015168  0.        0.       -0.281733 -2.566233  0.       -2.516072\n",
      "  0.        0.        0.        0.        0.55923   3.105184  0.\n",
      "  3.118885  0.        0.        0.        0.       -2.958238  3.135149\n",
      "  0.       -2.987015  0.        0.        0.        0.       -0.130063\n",
      "  0.991339  0.        2.811815  0.        0.        0.        0.\n",
      "  0.        1.83637   0.        2.854078  0.        0.        0.      ]\n",
      "2\n"
     ]
    }
   ],
   "source": [
    "def transposeInterleave(a, b):\n",
    "    c = np.empty((a.size + b.size,), dtype=a.dtype)\n",
    "    c[0::2] = a\n",
    "    c[1::2] = b\n",
    "    return c\n",
    "\n",
    "def dataTransp(dataDict,processedData,processedLabels):\n",
    "    j = 0\n",
    "    for key in dataDict.keys():\n",
    "        for i in range(0, len(dataDict[key].index), numLandmaks):  \n",
    "            #print(dataDict[1].iloc[i : i + numLandmaks,3:5])\n",
    "            a= np.ravel(np.asarray(dataDict[key].iloc[i : i + numLandmaks,3:4]))\n",
    "            b= np.ravel(np.asarray(dataDict[key].iloc[i : i + numLandmaks,4:5]))\n",
    "            #print(\"j:\",j)\n",
    "            processedData[j] = transposeInterleave(a,b)\n",
    "            processedLabels[j] =labels.iloc[key,2]\n",
    "            j+=1\n",
    "     # retun True\n",
    "\n",
    "dataTransp(preData,transData,transLabels) \n",
    "\n",
    "print(transData[-1])\n",
    "print(transLabels[-1])"
   ]
  },
  {
   "cell_type": "code",
   "execution_count": 11,
   "metadata": {},
   "outputs": [],
   "source": [
    "# Labels to one hot"
   ]
  },
  {
   "cell_type": "code",
   "execution_count": 10,
   "metadata": {},
   "outputs": [
    {
     "name": "stdout",
     "output_type": "stream",
     "text": [
      "(1989,)\n",
      "(1989, 3)\n",
      "[0. 0. 1.]\n"
     ]
    }
   ],
   "source": [
    "from keras.utils import to_categorical\n",
    "print(transLabels.shape)\n",
    "transLabels = to_categorical(transLabels)\n",
    "print(transLabels.shape)\n",
    "print(transLabels[-1])"
   ]
  },
  {
   "cell_type": "code",
   "execution_count": 13,
   "metadata": {},
   "outputs": [],
   "source": [
    "# Set apart Test Data"
   ]
  },
  {
   "cell_type": "code",
   "execution_count": 11,
   "metadata": {},
   "outputs": [
    {
     "name": "stdout",
     "output_type": "stream",
     "text": [
      "\tTraining records: 1591 \n",
      "\tTest records: 398\n"
     ]
    }
   ],
   "source": [
    "from sklearn.model_selection import train_test_split\n",
    "testDataRatio = 0.2\n",
    "\n",
    "X_train, X_test, y_train, y_test = train_test_split(transData,transLabels, test_size=testDataRatio)\n",
    "print( \"\\tTraining records:\", np.shape(X_train)[0], \"\\n\\tTest records:\", np.shape(X_test)[0])"
   ]
  },
  {
   "cell_type": "code",
   "execution_count": 15,
   "metadata": {},
   "outputs": [],
   "source": [
    "# model definition"
   ]
  },
  {
   "cell_type": "code",
   "execution_count": 12,
   "metadata": {},
   "outputs": [],
   "source": [
    "from keras import models\n",
    "from keras import layers\n",
    "from keras import backend as K\n",
    "K.clear_session()\n",
    "\n",
    "model = models.Sequential()\n",
    "model.add(layers.Dense(64, activation='relu', input_shape=(numCols,)))\n",
    "model.add(layers.Dense(42, activation='relu'))\n",
    "model.add(layers.Dense(len(labels.index), activation='softmax'))"
   ]
  },
  {
   "cell_type": "code",
   "execution_count": 17,
   "metadata": {},
   "outputs": [],
   "source": [
    "# model compile"
   ]
  },
  {
   "cell_type": "code",
   "execution_count": 13,
   "metadata": {},
   "outputs": [],
   "source": [
    "model.compile(optimizer='rmsprop',\n",
    "              loss='categorical_crossentropy',\n",
    "              metrics=['accuracy'])"
   ]
  },
  {
   "cell_type": "code",
   "execution_count": 19,
   "metadata": {},
   "outputs": [],
   "source": [
    "# training"
   ]
  },
  {
   "cell_type": "code",
   "execution_count": 14,
   "metadata": {},
   "outputs": [
    {
     "name": "stdout",
     "output_type": "stream",
     "text": [
      "Epoch 1/40\n",
      "40/40 [==============================] - 0s 8ms/step - loss: 0.5008 - accuracy: 0.8200 - val_loss: 0.2928 - val_accuracy: 0.9373\n",
      "Epoch 2/40\n",
      "40/40 [==============================] - 0s 2ms/step - loss: 0.2565 - accuracy: 0.9292 - val_loss: 0.1743 - val_accuracy: 0.9624\n",
      "Epoch 3/40\n",
      "40/40 [==============================] - 0s 2ms/step - loss: 0.1776 - accuracy: 0.9528 - val_loss: 0.1291 - val_accuracy: 0.9592\n",
      "Epoch 4/40\n",
      "40/40 [==============================] - 0s 2ms/step - loss: 0.1339 - accuracy: 0.9631 - val_loss: 0.1003 - val_accuracy: 0.9749\n",
      "Epoch 5/40\n",
      "40/40 [==============================] - 0s 2ms/step - loss: 0.1047 - accuracy: 0.9693 - val_loss: 0.0771 - val_accuracy: 0.9781\n",
      "Epoch 6/40\n",
      "40/40 [==============================] - 0s 2ms/step - loss: 0.0815 - accuracy: 0.9741 - val_loss: 0.0636 - val_accuracy: 0.9843\n",
      "Epoch 7/40\n",
      "40/40 [==============================] - 0s 2ms/step - loss: 0.0663 - accuracy: 0.9803 - val_loss: 0.0555 - val_accuracy: 0.9749\n",
      "Epoch 8/40\n",
      "40/40 [==============================] - 0s 2ms/step - loss: 0.0527 - accuracy: 0.9843 - val_loss: 0.0523 - val_accuracy: 0.9812\n",
      "Epoch 9/40\n",
      "40/40 [==============================] - 0s 2ms/step - loss: 0.0431 - accuracy: 0.9874 - val_loss: 0.0501 - val_accuracy: 0.9812\n",
      "Epoch 10/40\n",
      "40/40 [==============================] - 0s 2ms/step - loss: 0.0360 - accuracy: 0.9914 - val_loss: 0.0389 - val_accuracy: 0.9843\n",
      "Epoch 11/40\n",
      "40/40 [==============================] - 0s 2ms/step - loss: 0.0307 - accuracy: 0.9914 - val_loss: 0.0326 - val_accuracy: 0.9843\n",
      "Epoch 12/40\n",
      "40/40 [==============================] - 0s 2ms/step - loss: 0.0250 - accuracy: 0.9929 - val_loss: 0.0285 - val_accuracy: 0.9875\n",
      "Epoch 13/40\n",
      "40/40 [==============================] - 0s 2ms/step - loss: 0.0214 - accuracy: 0.9953 - val_loss: 0.0290 - val_accuracy: 0.9906\n",
      "Epoch 14/40\n",
      "40/40 [==============================] - 0s 2ms/step - loss: 0.0182 - accuracy: 0.9953 - val_loss: 0.0259 - val_accuracy: 0.9906\n",
      "Epoch 15/40\n",
      "40/40 [==============================] - 0s 2ms/step - loss: 0.0160 - accuracy: 0.9961 - val_loss: 0.0275 - val_accuracy: 0.9875\n",
      "Epoch 16/40\n",
      "40/40 [==============================] - 0s 2ms/step - loss: 0.0127 - accuracy: 0.9961 - val_loss: 0.0244 - val_accuracy: 0.9906\n",
      "Epoch 17/40\n",
      "40/40 [==============================] - 0s 2ms/step - loss: 0.0117 - accuracy: 0.9961 - val_loss: 0.0241 - val_accuracy: 0.9906\n",
      "Epoch 18/40\n",
      "40/40 [==============================] - 0s 2ms/step - loss: 0.0105 - accuracy: 0.9969 - val_loss: 0.0205 - val_accuracy: 0.9906\n",
      "Epoch 19/40\n",
      "40/40 [==============================] - 0s 2ms/step - loss: 0.0079 - accuracy: 0.9976 - val_loss: 0.0204 - val_accuracy: 0.9906\n",
      "Epoch 20/40\n",
      "40/40 [==============================] - 0s 2ms/step - loss: 0.0067 - accuracy: 0.9992 - val_loss: 0.0246 - val_accuracy: 0.9906\n",
      "Epoch 21/40\n",
      "40/40 [==============================] - 0s 2ms/step - loss: 0.0066 - accuracy: 0.9984 - val_loss: 0.0180 - val_accuracy: 0.9906\n",
      "Epoch 22/40\n",
      "40/40 [==============================] - 0s 2ms/step - loss: 0.0057 - accuracy: 0.9984 - val_loss: 0.0207 - val_accuracy: 0.9906\n",
      "Epoch 23/40\n",
      "40/40 [==============================] - 0s 2ms/step - loss: 0.0046 - accuracy: 0.9992 - val_loss: 0.0175 - val_accuracy: 0.9969\n",
      "Epoch 24/40\n",
      "40/40 [==============================] - 0s 2ms/step - loss: 0.0032 - accuracy: 0.9992 - val_loss: 0.0215 - val_accuracy: 0.9906\n",
      "Epoch 25/40\n",
      "40/40 [==============================] - 0s 2ms/step - loss: 0.0037 - accuracy: 0.9992 - val_loss: 0.0243 - val_accuracy: 0.9906\n",
      "Epoch 26/40\n",
      "40/40 [==============================] - 0s 2ms/step - loss: 0.0030 - accuracy: 1.0000 - val_loss: 0.0206 - val_accuracy: 0.9906\n",
      "Epoch 27/40\n",
      "40/40 [==============================] - 0s 2ms/step - loss: 0.0024 - accuracy: 1.0000 - val_loss: 0.0197 - val_accuracy: 0.9906\n",
      "Epoch 28/40\n",
      "40/40 [==============================] - 0s 2ms/step - loss: 0.0030 - accuracy: 0.9992 - val_loss: 0.0185 - val_accuracy: 0.9937\n",
      "Epoch 29/40\n",
      "40/40 [==============================] - 0s 2ms/step - loss: 0.0016 - accuracy: 1.0000 - val_loss: 0.0206 - val_accuracy: 0.9937\n",
      "Epoch 30/40\n",
      "40/40 [==============================] - 0s 2ms/step - loss: 0.0015 - accuracy: 1.0000 - val_loss: 0.0177 - val_accuracy: 0.9906\n",
      "Epoch 31/40\n",
      "40/40 [==============================] - 0s 2ms/step - loss: 0.0012 - accuracy: 1.0000 - val_loss: 0.0226 - val_accuracy: 0.9937\n",
      "Epoch 32/40\n",
      "40/40 [==============================] - 0s 2ms/step - loss: 8.5216e-04 - accuracy: 1.0000 - val_loss: 0.0262 - val_accuracy: 0.9906\n",
      "Epoch 33/40\n",
      "40/40 [==============================] - 0s 2ms/step - loss: 7.9942e-04 - accuracy: 1.0000 - val_loss: 0.0219 - val_accuracy: 0.9937\n",
      "Epoch 34/40\n",
      "40/40 [==============================] - 0s 2ms/step - loss: 5.3368e-04 - accuracy: 1.0000 - val_loss: 0.0234 - val_accuracy: 0.9906\n",
      "Epoch 35/40\n",
      "40/40 [==============================] - 0s 2ms/step - loss: 0.0010 - accuracy: 1.0000 - val_loss: 0.0219 - val_accuracy: 0.9937\n",
      "Epoch 36/40\n",
      "40/40 [==============================] - 0s 2ms/step - loss: 6.2941e-04 - accuracy: 1.0000 - val_loss: 0.0282 - val_accuracy: 0.9937\n",
      "Epoch 37/40\n",
      "40/40 [==============================] - 0s 2ms/step - loss: 5.4741e-04 - accuracy: 1.0000 - val_loss: 0.0178 - val_accuracy: 0.9937\n",
      "Epoch 38/40\n",
      "40/40 [==============================] - 0s 2ms/step - loss: 4.0073e-04 - accuracy: 1.0000 - val_loss: 0.0266 - val_accuracy: 0.9937\n",
      "Epoch 39/40\n",
      "40/40 [==============================] - 0s 2ms/step - loss: 7.0321e-04 - accuracy: 1.0000 - val_loss: 0.0259 - val_accuracy: 0.9937\n",
      "Epoch 40/40\n",
      "40/40 [==============================] - 0s 2ms/step - loss: 4.2497e-04 - accuracy: 1.0000 - val_loss: 0.0251 - val_accuracy: 0.9906\n"
     ]
    }
   ],
   "source": [
    "history = model.fit(X_train,\n",
    "                    y_train,\n",
    "                    epochs=40,\n",
    "                    #batch_size=512,\n",
    "                    validation_split=0.2)"
   ]
  },
  {
   "cell_type": "code",
   "execution_count": 21,
   "metadata": {},
   "outputs": [],
   "source": [
    "# Plotting the training and validation loss"
   ]
  },
  {
   "cell_type": "code",
   "execution_count": 15,
   "metadata": {},
   "outputs": [
    {
     "data": {
      "image/png": "[encoded data removed]",
      "text/plain": [
       "<Figure size 432x288 with 1 Axes>"
      ]
     },
     "metadata": {
      "needs_background": "light"
     },
     "output_type": "display_data"
    }
   ],
   "source": [
    "import matplotlib.pyplot as plt\n",
    "loss = history.history['loss']\n",
    "val_loss = history.history['val_loss']\n",
    "epochs = range(1, len(loss) + 1)\n",
    "plt.plot(epochs, loss, 'bo', label='Training loss')\n",
    "plt.plot(epochs, val_loss, 'b', label='Validation loss')\n",
    "plt.title('Training and validation loss')\n",
    "plt.xlabel('Epochs')\n",
    "plt.ylabel('Loss')\n",
    "plt.legend()\n",
    "plt.show()"
   ]
  },
  {
   "cell_type": "code",
   "execution_count": 23,
   "metadata": {},
   "outputs": [],
   "source": [
    "# Plotting the training and validation accuracy"
   ]
  },
  {
   "cell_type": "code",
   "execution_count": null,
   "metadata": {},
   "outputs": [],
   "source": []
  },
  {
   "cell_type": "code",
   "execution_count": 16,
   "metadata": {},
   "outputs": [
    {
     "data": {
      "image/png": "[encoded data removed]",
      "text/plain": [
       "<Figure size 432x288 with 1 Axes>"
      ]
     },
     "metadata": {
      "needs_background": "light"
     },
     "output_type": "display_data"
    }
   ],
   "source": [
    "plt.clf()\n",
    "acc = history.history['accuracy']\n",
    "val_acc = history.history['val_accuracy']\n",
    "plt.plot(epochs, acc, 'go', label='Training acc')\n",
    "plt.plot(epochs, val_acc, 'g', label='Validation acc')\n",
    "plt.title('Training and validation accuracy')\n",
    "plt.xlabel('Epochs')\n",
    "plt.ylabel('Loss')\n",
    "plt.legend()\n",
    "plt.show()"
   ]
  },
  {
   "cell_type": "code",
   "execution_count": 25,
   "metadata": {},
   "outputs": [],
   "source": [
    "# Evaluate the model"
   ]
  },
  {
   "cell_type": "code",
   "execution_count": 17,
   "metadata": {},
   "outputs": [
    {
     "name": "stdout",
     "output_type": "stream",
     "text": [
      "\n",
      "Testing loss: 12.0%, acc: 98.24%\n",
      "\n"
     ]
    }
   ],
   "source": [
    "loss, acc = model.evaluate(X_test, y_test, verbose=0)\n",
    "print('\\nTesting loss: {}%, acc: {}%\\n'.format(round(loss*100,2),round(acc*100,2)))"
   ]
  },
  {
   "cell_type": "code",
   "execution_count": 27,
   "metadata": {},
   "outputs": [],
   "source": [
    "# TODO: Model optimization"
   ]
  },
  {
   "cell_type": "code",
   "execution_count": 18,
   "metadata": {},
   "outputs": [],
   "source": [
    "# saving\n",
    "model.save('gestures003.h5')"
   ]
  },
  {
   "cell_type": "code",
   "execution_count": 29,
   "metadata": {},
   "outputs": [],
   "source": [
    "# To tflite"
   ]
  },
  {
   "cell_type": "code",
   "execution_count": 19,
   "metadata": {},
   "outputs": [
    {
     "name": "stdout",
     "output_type": "stream",
     "text": [
      "<module 'tensorflow._api.v2.version' from '/home/nghia/venv/lib/python3.6/site-packages/tensorflow/_api/v2/version/__init__.py'>\n",
      "WARNING:tensorflow:From /home/nghia/venv/lib/python3.6/site-packages/tensorflow/python/training/tracking/tracking.py:111: Model.state_updates (from tensorflow.python.keras.engine.training) is deprecated and will be removed in a future version.\n",
      "Instructions for updating:\n",
      "This property should not be used in TensorFlow 2.0, as updates are applied automatically.\n",
      "WARNING:tensorflow:From /home/nghia/venv/lib/python3.6/site-packages/tensorflow/python/training/tracking/tracking.py:111: Layer.updates (from tensorflow.python.keras.engine.base_layer) is deprecated and will be removed in a future version.\n",
      "Instructions for updating:\n",
      "This property should not be used in TensorFlow 2.0, as updates are applied automatically.\n",
      "INFO:tensorflow:Assets written to: /tmp/tmpwlv096iv/assets\n"
     ]
    },
    {
     "data": {
      "text/plain": [
       "24124"
      ]
     },
     "execution_count": 19,
     "metadata": {},
     "output_type": "execute_result"
    }
   ],
   "source": [
    "import tensorflow as tf\n",
    "print(tf.version)\n",
    "\n",
    "converter = tf.lite.TFLiteConverter.from_keras_model(model) \n",
    "liteModel = converter.convert()\n",
    "\n",
    "open(\"gestures003.tflite\", \"wb\").write(liteModel)\n",
    "\n",
    "#file = open( 'gestures001.tflite' , 'wb' ) \n",
    "#file.write( liteModel )"
   ]
  },
  {
   "cell_type": "code",
   "execution_count": null,
   "metadata": {},
   "outputs": [],
   "source": []
  },
  {
   "cell_type": "code",
   "execution_count": null,
   "metadata": {},
   "outputs": [],
   "source": []
  }
 ],
 "metadata": {
  "kernelspec": {
   "display_name": "Python 3",
   "language": "python",
   "name": "python3"
  },
  "language_info": {
   "codemirror_mode": {
    "name": "ipython",
    "version": 3
   },
   "file_extension": ".py",
   "mimetype": "text/x-python",
   "name": "python",
   "nbconvert_exporter": "python",
   "pygments_lexer": "ipython3",
   "version": "3.6.9"
  }
 },
 "nbformat": 4,
 "nbformat_minor": 5
}
